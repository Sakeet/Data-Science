{
  "nbformat": 4,
  "nbformat_minor": 0,
  "metadata": {
    "colab": {
      "provenance": []
    },
    "kernelspec": {
      "name": "python3",
      "display_name": "Python 3"
    },
    "language_info": {
      "name": "python"
    }
  },
  "cells": [
    {
      "cell_type": "markdown",
      "metadata": {
        "id": "Px-KQz6U97JI"
      },
      "source": [
        "PRE-PROCESSING"
      ]
    },
    {
      "cell_type": "code",
      "metadata": {
        "id": "3CRIzCt74bdQ"
      },
      "source": [
        "# Importing Libraries\n",
        "import numpy as np\n",
        "import pandas as pd\n",
        "import matplotlib.pyplot as plt\n",
        "import seaborn as sns\n",
        "import calendar\n",
        "import datetime\n",
        "import plotly.express as px"
      ],
      "execution_count": null,
      "outputs": []
    },
    {
      "cell_type": "code",
      "metadata": {
        "id": "RssiOCKc4fbb"
      },
      "source": [
        "df=pd.read_csv(\"https://raw.githubusercontent.com/kedarvoggu/customer/main/Comcast_telecom_complaints_data.csv\")\n",
        "dfv=df"
      ],
      "execution_count": null,
      "outputs": []
    },
    {
      "cell_type": "code",
      "metadata": {
        "colab": {
          "base_uri": "https://localhost:8080/",
          "height": 615
        },
        "id": "agC4g-h14ki8",
        "outputId": "62e807df-ad5b-4980-9d89-5d487aa58cca"
      },
      "source": [
        "df"
      ],
      "execution_count": null,
      "outputs": [
        {
          "output_type": "execute_result",
          "data": {
            "text/html": [
              "<div>\n",
              "<style scoped>\n",
              "    .dataframe tbody tr th:only-of-type {\n",
              "        vertical-align: middle;\n",
              "    }\n",
              "\n",
              "    .dataframe tbody tr th {\n",
              "        vertical-align: top;\n",
              "    }\n",
              "\n",
              "    .dataframe thead th {\n",
              "        text-align: right;\n",
              "    }\n",
              "</style>\n",
              "<table border=\"1\" class=\"dataframe\">\n",
              "  <thead>\n",
              "    <tr style=\"text-align: right;\">\n",
              "      <th></th>\n",
              "      <th>Ticket #</th>\n",
              "      <th>Customer Complaint</th>\n",
              "      <th>Date</th>\n",
              "      <th>Date_month_year</th>\n",
              "      <th>Time</th>\n",
              "      <th>Received Via</th>\n",
              "      <th>City</th>\n",
              "      <th>State</th>\n",
              "      <th>Zip code</th>\n",
              "      <th>Status</th>\n",
              "      <th>Filing on Behalf of Someone</th>\n",
              "    </tr>\n",
              "  </thead>\n",
              "  <tbody>\n",
              "    <tr>\n",
              "      <th>0</th>\n",
              "      <td>250635</td>\n",
              "      <td>Comcast Cable Internet Speeds</td>\n",
              "      <td>22-04-15</td>\n",
              "      <td>22-Apr-15</td>\n",
              "      <td>3:53:50 PM</td>\n",
              "      <td>Customer Care Call</td>\n",
              "      <td>Abingdon</td>\n",
              "      <td>Maryland</td>\n",
              "      <td>21009</td>\n",
              "      <td>Closed</td>\n",
              "      <td>No</td>\n",
              "    </tr>\n",
              "    <tr>\n",
              "      <th>1</th>\n",
              "      <td>223441</td>\n",
              "      <td>Payment disappear - service got disconnected</td>\n",
              "      <td>04-08-15</td>\n",
              "      <td>04-Aug-15</td>\n",
              "      <td>10:22:56 AM</td>\n",
              "      <td>Internet</td>\n",
              "      <td>Acworth</td>\n",
              "      <td>Georgia</td>\n",
              "      <td>30102</td>\n",
              "      <td>Closed</td>\n",
              "      <td>No</td>\n",
              "    </tr>\n",
              "    <tr>\n",
              "      <th>2</th>\n",
              "      <td>242732</td>\n",
              "      <td>Speed and Service</td>\n",
              "      <td>18-04-15</td>\n",
              "      <td>18-Apr-15</td>\n",
              "      <td>9:55:47 AM</td>\n",
              "      <td>Internet</td>\n",
              "      <td>Acworth</td>\n",
              "      <td>Georgia</td>\n",
              "      <td>30101</td>\n",
              "      <td>Closed</td>\n",
              "      <td>Yes</td>\n",
              "    </tr>\n",
              "    <tr>\n",
              "      <th>3</th>\n",
              "      <td>277946</td>\n",
              "      <td>Comcast Imposed a New Usage Cap of 300GB that ...</td>\n",
              "      <td>05-07-15</td>\n",
              "      <td>05-Jul-15</td>\n",
              "      <td>11:59:35 AM</td>\n",
              "      <td>Internet</td>\n",
              "      <td>Acworth</td>\n",
              "      <td>Georgia</td>\n",
              "      <td>30101</td>\n",
              "      <td>Open</td>\n",
              "      <td>Yes</td>\n",
              "    </tr>\n",
              "    <tr>\n",
              "      <th>4</th>\n",
              "      <td>307175</td>\n",
              "      <td>Comcast not working and no service to boot</td>\n",
              "      <td>26-05-15</td>\n",
              "      <td>26-May-15</td>\n",
              "      <td>1:25:26 PM</td>\n",
              "      <td>Internet</td>\n",
              "      <td>Acworth</td>\n",
              "      <td>Georgia</td>\n",
              "      <td>30101</td>\n",
              "      <td>Solved</td>\n",
              "      <td>No</td>\n",
              "    </tr>\n",
              "    <tr>\n",
              "      <th>...</th>\n",
              "      <td>...</td>\n",
              "      <td>...</td>\n",
              "      <td>...</td>\n",
              "      <td>...</td>\n",
              "      <td>...</td>\n",
              "      <td>...</td>\n",
              "      <td>...</td>\n",
              "      <td>...</td>\n",
              "      <td>...</td>\n",
              "      <td>...</td>\n",
              "      <td>...</td>\n",
              "    </tr>\n",
              "    <tr>\n",
              "      <th>2219</th>\n",
              "      <td>213550</td>\n",
              "      <td>Service Availability</td>\n",
              "      <td>04-02-15</td>\n",
              "      <td>04-Feb-15</td>\n",
              "      <td>9:13:18 AM</td>\n",
              "      <td>Customer Care Call</td>\n",
              "      <td>Youngstown</td>\n",
              "      <td>Florida</td>\n",
              "      <td>32466</td>\n",
              "      <td>Closed</td>\n",
              "      <td>No</td>\n",
              "    </tr>\n",
              "    <tr>\n",
              "      <th>2220</th>\n",
              "      <td>318775</td>\n",
              "      <td>Comcast Monthly Billing for Returned Modem</td>\n",
              "      <td>06-02-15</td>\n",
              "      <td>06-Feb-15</td>\n",
              "      <td>1:24:39 PM</td>\n",
              "      <td>Customer Care Call</td>\n",
              "      <td>Ypsilanti</td>\n",
              "      <td>Michigan</td>\n",
              "      <td>48197</td>\n",
              "      <td>Solved</td>\n",
              "      <td>No</td>\n",
              "    </tr>\n",
              "    <tr>\n",
              "      <th>2221</th>\n",
              "      <td>331188</td>\n",
              "      <td>complaint about comcast</td>\n",
              "      <td>06-09-15</td>\n",
              "      <td>06-Sep-15</td>\n",
              "      <td>5:28:41 PM</td>\n",
              "      <td>Internet</td>\n",
              "      <td>Ypsilanti</td>\n",
              "      <td>Michigan</td>\n",
              "      <td>48197</td>\n",
              "      <td>Solved</td>\n",
              "      <td>No</td>\n",
              "    </tr>\n",
              "    <tr>\n",
              "      <th>2222</th>\n",
              "      <td>360489</td>\n",
              "      <td>Extremely unsatisfied Comcast customer</td>\n",
              "      <td>23-06-15</td>\n",
              "      <td>23-Jun-15</td>\n",
              "      <td>11:13:30 PM</td>\n",
              "      <td>Customer Care Call</td>\n",
              "      <td>Ypsilanti</td>\n",
              "      <td>Michigan</td>\n",
              "      <td>48197</td>\n",
              "      <td>Solved</td>\n",
              "      <td>No</td>\n",
              "    </tr>\n",
              "    <tr>\n",
              "      <th>2223</th>\n",
              "      <td>363614</td>\n",
              "      <td>Comcast, Ypsilanti MI Internet Speed</td>\n",
              "      <td>24-06-15</td>\n",
              "      <td>24-Jun-15</td>\n",
              "      <td>10:28:33 PM</td>\n",
              "      <td>Customer Care Call</td>\n",
              "      <td>Ypsilanti</td>\n",
              "      <td>Michigan</td>\n",
              "      <td>48198</td>\n",
              "      <td>Open</td>\n",
              "      <td>Yes</td>\n",
              "    </tr>\n",
              "  </tbody>\n",
              "</table>\n",
              "<p>2224 rows × 11 columns</p>\n",
              "</div>"
            ],
            "text/plain": [
              "     Ticket #  ... Filing on Behalf of Someone\n",
              "0      250635  ...                          No\n",
              "1      223441  ...                          No\n",
              "2      242732  ...                         Yes\n",
              "3      277946  ...                         Yes\n",
              "4      307175  ...                          No\n",
              "...       ...  ...                         ...\n",
              "2219   213550  ...                          No\n",
              "2220   318775  ...                          No\n",
              "2221   331188  ...                          No\n",
              "2222   360489  ...                          No\n",
              "2223   363614  ...                         Yes\n",
              "\n",
              "[2224 rows x 11 columns]"
            ]
          },
          "metadata": {},
          "execution_count": 211
        }
      ]
    },
    {
      "cell_type": "code",
      "metadata": {
        "colab": {
          "base_uri": "https://localhost:8080/",
          "height": 310
        },
        "id": "IuiqXRdt5K5X",
        "outputId": "66f9f316-2d06-4e4a-f70b-954e495896d8"
      },
      "source": [
        "df.head()"
      ],
      "execution_count": null,
      "outputs": [
        {
          "output_type": "execute_result",
          "data": {
            "text/html": [
              "<div>\n",
              "<style scoped>\n",
              "    .dataframe tbody tr th:only-of-type {\n",
              "        vertical-align: middle;\n",
              "    }\n",
              "\n",
              "    .dataframe tbody tr th {\n",
              "        vertical-align: top;\n",
              "    }\n",
              "\n",
              "    .dataframe thead th {\n",
              "        text-align: right;\n",
              "    }\n",
              "</style>\n",
              "<table border=\"1\" class=\"dataframe\">\n",
              "  <thead>\n",
              "    <tr style=\"text-align: right;\">\n",
              "      <th></th>\n",
              "      <th>Ticket #</th>\n",
              "      <th>Customer Complaint</th>\n",
              "      <th>Date</th>\n",
              "      <th>Date_month_year</th>\n",
              "      <th>Time</th>\n",
              "      <th>Received Via</th>\n",
              "      <th>City</th>\n",
              "      <th>State</th>\n",
              "      <th>Zip code</th>\n",
              "      <th>Status</th>\n",
              "      <th>Filing on Behalf of Someone</th>\n",
              "    </tr>\n",
              "  </thead>\n",
              "  <tbody>\n",
              "    <tr>\n",
              "      <th>0</th>\n",
              "      <td>250635</td>\n",
              "      <td>Comcast Cable Internet Speeds</td>\n",
              "      <td>22-04-15</td>\n",
              "      <td>22-Apr-15</td>\n",
              "      <td>3:53:50 PM</td>\n",
              "      <td>Customer Care Call</td>\n",
              "      <td>Abingdon</td>\n",
              "      <td>Maryland</td>\n",
              "      <td>21009</td>\n",
              "      <td>Closed</td>\n",
              "      <td>No</td>\n",
              "    </tr>\n",
              "    <tr>\n",
              "      <th>1</th>\n",
              "      <td>223441</td>\n",
              "      <td>Payment disappear - service got disconnected</td>\n",
              "      <td>04-08-15</td>\n",
              "      <td>04-Aug-15</td>\n",
              "      <td>10:22:56 AM</td>\n",
              "      <td>Internet</td>\n",
              "      <td>Acworth</td>\n",
              "      <td>Georgia</td>\n",
              "      <td>30102</td>\n",
              "      <td>Closed</td>\n",
              "      <td>No</td>\n",
              "    </tr>\n",
              "    <tr>\n",
              "      <th>2</th>\n",
              "      <td>242732</td>\n",
              "      <td>Speed and Service</td>\n",
              "      <td>18-04-15</td>\n",
              "      <td>18-Apr-15</td>\n",
              "      <td>9:55:47 AM</td>\n",
              "      <td>Internet</td>\n",
              "      <td>Acworth</td>\n",
              "      <td>Georgia</td>\n",
              "      <td>30101</td>\n",
              "      <td>Closed</td>\n",
              "      <td>Yes</td>\n",
              "    </tr>\n",
              "    <tr>\n",
              "      <th>3</th>\n",
              "      <td>277946</td>\n",
              "      <td>Comcast Imposed a New Usage Cap of 300GB that ...</td>\n",
              "      <td>05-07-15</td>\n",
              "      <td>05-Jul-15</td>\n",
              "      <td>11:59:35 AM</td>\n",
              "      <td>Internet</td>\n",
              "      <td>Acworth</td>\n",
              "      <td>Georgia</td>\n",
              "      <td>30101</td>\n",
              "      <td>Open</td>\n",
              "      <td>Yes</td>\n",
              "    </tr>\n",
              "    <tr>\n",
              "      <th>4</th>\n",
              "      <td>307175</td>\n",
              "      <td>Comcast not working and no service to boot</td>\n",
              "      <td>26-05-15</td>\n",
              "      <td>26-May-15</td>\n",
              "      <td>1:25:26 PM</td>\n",
              "      <td>Internet</td>\n",
              "      <td>Acworth</td>\n",
              "      <td>Georgia</td>\n",
              "      <td>30101</td>\n",
              "      <td>Solved</td>\n",
              "      <td>No</td>\n",
              "    </tr>\n",
              "  </tbody>\n",
              "</table>\n",
              "</div>"
            ],
            "text/plain": [
              "  Ticket #  ... Filing on Behalf of Someone\n",
              "0   250635  ...                          No\n",
              "1   223441  ...                          No\n",
              "2   242732  ...                         Yes\n",
              "3   277946  ...                         Yes\n",
              "4   307175  ...                          No\n",
              "\n",
              "[5 rows x 11 columns]"
            ]
          },
          "metadata": {},
          "execution_count": 84
        }
      ]
    },
    {
      "cell_type": "code",
      "metadata": {
        "colab": {
          "base_uri": "https://localhost:8080/",
          "height": 310
        },
        "id": "0mGjrig85TC6",
        "outputId": "cf895b92-a788-4c67-ba31-2b335e828003"
      },
      "source": [
        "df.tail()"
      ],
      "execution_count": null,
      "outputs": [
        {
          "output_type": "execute_result",
          "data": {
            "text/html": [
              "<div>\n",
              "<style scoped>\n",
              "    .dataframe tbody tr th:only-of-type {\n",
              "        vertical-align: middle;\n",
              "    }\n",
              "\n",
              "    .dataframe tbody tr th {\n",
              "        vertical-align: top;\n",
              "    }\n",
              "\n",
              "    .dataframe thead th {\n",
              "        text-align: right;\n",
              "    }\n",
              "</style>\n",
              "<table border=\"1\" class=\"dataframe\">\n",
              "  <thead>\n",
              "    <tr style=\"text-align: right;\">\n",
              "      <th></th>\n",
              "      <th>Ticket #</th>\n",
              "      <th>Customer Complaint</th>\n",
              "      <th>Date</th>\n",
              "      <th>Date_month_year</th>\n",
              "      <th>Time</th>\n",
              "      <th>Received Via</th>\n",
              "      <th>City</th>\n",
              "      <th>State</th>\n",
              "      <th>Zip code</th>\n",
              "      <th>Status</th>\n",
              "      <th>Filing on Behalf of Someone</th>\n",
              "    </tr>\n",
              "  </thead>\n",
              "  <tbody>\n",
              "    <tr>\n",
              "      <th>2219</th>\n",
              "      <td>213550</td>\n",
              "      <td>Service Availability</td>\n",
              "      <td>04-02-15</td>\n",
              "      <td>04-Feb-15</td>\n",
              "      <td>9:13:18 AM</td>\n",
              "      <td>Customer Care Call</td>\n",
              "      <td>Youngstown</td>\n",
              "      <td>Florida</td>\n",
              "      <td>32466</td>\n",
              "      <td>Closed</td>\n",
              "      <td>No</td>\n",
              "    </tr>\n",
              "    <tr>\n",
              "      <th>2220</th>\n",
              "      <td>318775</td>\n",
              "      <td>Comcast Monthly Billing for Returned Modem</td>\n",
              "      <td>06-02-15</td>\n",
              "      <td>06-Feb-15</td>\n",
              "      <td>1:24:39 PM</td>\n",
              "      <td>Customer Care Call</td>\n",
              "      <td>Ypsilanti</td>\n",
              "      <td>Michigan</td>\n",
              "      <td>48197</td>\n",
              "      <td>Solved</td>\n",
              "      <td>No</td>\n",
              "    </tr>\n",
              "    <tr>\n",
              "      <th>2221</th>\n",
              "      <td>331188</td>\n",
              "      <td>complaint about comcast</td>\n",
              "      <td>06-09-15</td>\n",
              "      <td>06-Sep-15</td>\n",
              "      <td>5:28:41 PM</td>\n",
              "      <td>Internet</td>\n",
              "      <td>Ypsilanti</td>\n",
              "      <td>Michigan</td>\n",
              "      <td>48197</td>\n",
              "      <td>Solved</td>\n",
              "      <td>No</td>\n",
              "    </tr>\n",
              "    <tr>\n",
              "      <th>2222</th>\n",
              "      <td>360489</td>\n",
              "      <td>Extremely unsatisfied Comcast customer</td>\n",
              "      <td>23-06-15</td>\n",
              "      <td>23-Jun-15</td>\n",
              "      <td>11:13:30 PM</td>\n",
              "      <td>Customer Care Call</td>\n",
              "      <td>Ypsilanti</td>\n",
              "      <td>Michigan</td>\n",
              "      <td>48197</td>\n",
              "      <td>Solved</td>\n",
              "      <td>No</td>\n",
              "    </tr>\n",
              "    <tr>\n",
              "      <th>2223</th>\n",
              "      <td>363614</td>\n",
              "      <td>Comcast, Ypsilanti MI Internet Speed</td>\n",
              "      <td>24-06-15</td>\n",
              "      <td>24-Jun-15</td>\n",
              "      <td>10:28:33 PM</td>\n",
              "      <td>Customer Care Call</td>\n",
              "      <td>Ypsilanti</td>\n",
              "      <td>Michigan</td>\n",
              "      <td>48198</td>\n",
              "      <td>Open</td>\n",
              "      <td>Yes</td>\n",
              "    </tr>\n",
              "  </tbody>\n",
              "</table>\n",
              "</div>"
            ],
            "text/plain": [
              "     Ticket #  ... Filing on Behalf of Someone\n",
              "2219   213550  ...                          No\n",
              "2220   318775  ...                          No\n",
              "2221   331188  ...                          No\n",
              "2222   360489  ...                          No\n",
              "2223   363614  ...                         Yes\n",
              "\n",
              "[5 rows x 11 columns]"
            ]
          },
          "metadata": {},
          "execution_count": 85
        }
      ]
    },
    {
      "cell_type": "code",
      "metadata": {
        "colab": {
          "base_uri": "https://localhost:8080/"
        },
        "id": "oITAMZjG7GAo",
        "outputId": "80d6ce7e-9e92-477b-83dd-76539944a7ba"
      },
      "source": [
        "#To see all column names\n",
        "print(list(df.columns))"
      ],
      "execution_count": null,
      "outputs": [
        {
          "output_type": "stream",
          "name": "stdout",
          "text": [
            "['Ticket #', 'Customer Complaint', 'Date', 'Date_month_year', 'Time', 'Received Via', 'City', 'State', 'Zip code', 'Status', 'Filing on Behalf of Someone']\n"
          ]
        }
      ]
    },
    {
      "cell_type": "code",
      "metadata": {
        "colab": {
          "base_uri": "https://localhost:8080/"
        },
        "id": "9BLG5Nis5Y7w",
        "outputId": "39d07d85-234f-467b-ee90-e17385583043"
      },
      "source": [
        "df.dtypes"
      ],
      "execution_count": null,
      "outputs": [
        {
          "output_type": "execute_result",
          "data": {
            "text/plain": [
              "Ticket #                       object\n",
              "Customer Complaint             object\n",
              "Date                           object\n",
              "Date_month_year                object\n",
              "Time                           object\n",
              "Received Via                   object\n",
              "City                           object\n",
              "State                          object\n",
              "Zip code                        int64\n",
              "Status                         object\n",
              "Filing on Behalf of Someone    object\n",
              "dtype: object"
            ]
          },
          "metadata": {},
          "execution_count": 115
        }
      ]
    },
    {
      "cell_type": "code",
      "metadata": {
        "colab": {
          "base_uri": "https://localhost:8080/"
        },
        "id": "NBrZS4ON5i7V",
        "outputId": "6490d15e-bb7c-427b-f3ec-f02833225d6a"
      },
      "source": [
        "#Information about columns\n",
        "df.info()"
      ],
      "execution_count": null,
      "outputs": [
        {
          "output_type": "stream",
          "name": "stdout",
          "text": [
            "<class 'pandas.core.frame.DataFrame'>\n",
            "RangeIndex: 2224 entries, 0 to 2223\n",
            "Data columns (total 11 columns):\n",
            " #   Column                       Non-Null Count  Dtype \n",
            "---  ------                       --------------  ----- \n",
            " 0   Ticket #                     2224 non-null   object\n",
            " 1   Customer Complaint           2224 non-null   object\n",
            " 2   Date                         2224 non-null   object\n",
            " 3   Date_month_year              2224 non-null   object\n",
            " 4   Time                         2224 non-null   object\n",
            " 5   Received Via                 2224 non-null   object\n",
            " 6   City                         2224 non-null   object\n",
            " 7   State                        2224 non-null   object\n",
            " 8   Zip code                     2224 non-null   int64 \n",
            " 9   Status                       2224 non-null   object\n",
            " 10  Filing on Behalf of Someone  2224 non-null   object\n",
            "dtypes: int64(1), object(10)\n",
            "memory usage: 191.2+ KB\n"
          ]
        }
      ]
    },
    {
      "cell_type": "code",
      "metadata": {
        "colab": {
          "base_uri": "https://localhost:8080/"
        },
        "id": "Rj9F9Znc8yc9",
        "outputId": "15eedfcb-8b91-4e09-ebdc-6702c67b492e"
      },
      "source": [
        "#Converting Date and Date_month_year column from object to datetime64 dtype\n",
        "df['Date_month_year'] = pd.to_datetime(df['Date_month_year'])\n",
        "df['Date'] = pd.to_datetime(df['Date'],format='%d-%m-%y')\n",
        "df.dtypes"
      ],
      "execution_count": null,
      "outputs": [
        {
          "output_type": "execute_result",
          "data": {
            "text/plain": [
              "Ticket #                               object\n",
              "Customer Complaint                     object\n",
              "Date                           datetime64[ns]\n",
              "Date_month_year                datetime64[ns]\n",
              "Time                                   object\n",
              "Received Via                           object\n",
              "City                                   object\n",
              "State                                  object\n",
              "Zip code                                int64\n",
              "Status                                 object\n",
              "Filing on Behalf of Someone            object\n",
              "dtype: object"
            ]
          },
          "metadata": {},
          "execution_count": 117
        }
      ]
    },
    {
      "cell_type": "code",
      "metadata": {
        "colab": {
          "base_uri": "https://localhost:8080/",
          "height": 300
        },
        "id": "E-oSoagL5sc5",
        "outputId": "9a72931d-f444-4819-ada0-f03c6e42f504"
      },
      "source": [
        "df.describe()"
      ],
      "execution_count": null,
      "outputs": [
        {
          "output_type": "execute_result",
          "data": {
            "text/html": [
              "<div>\n",
              "<style scoped>\n",
              "    .dataframe tbody tr th:only-of-type {\n",
              "        vertical-align: middle;\n",
              "    }\n",
              "\n",
              "    .dataframe tbody tr th {\n",
              "        vertical-align: top;\n",
              "    }\n",
              "\n",
              "    .dataframe thead th {\n",
              "        text-align: right;\n",
              "    }\n",
              "</style>\n",
              "<table border=\"1\" class=\"dataframe\">\n",
              "  <thead>\n",
              "    <tr style=\"text-align: right;\">\n",
              "      <th></th>\n",
              "      <th>Zip code</th>\n",
              "    </tr>\n",
              "  </thead>\n",
              "  <tbody>\n",
              "    <tr>\n",
              "      <th>count</th>\n",
              "      <td>2224.000000</td>\n",
              "    </tr>\n",
              "    <tr>\n",
              "      <th>mean</th>\n",
              "      <td>47994.393435</td>\n",
              "    </tr>\n",
              "    <tr>\n",
              "      <th>std</th>\n",
              "      <td>28885.279427</td>\n",
              "    </tr>\n",
              "    <tr>\n",
              "      <th>min</th>\n",
              "      <td>1075.000000</td>\n",
              "    </tr>\n",
              "    <tr>\n",
              "      <th>25%</th>\n",
              "      <td>30056.500000</td>\n",
              "    </tr>\n",
              "    <tr>\n",
              "      <th>50%</th>\n",
              "      <td>37211.000000</td>\n",
              "    </tr>\n",
              "    <tr>\n",
              "      <th>75%</th>\n",
              "      <td>77058.750000</td>\n",
              "    </tr>\n",
              "    <tr>\n",
              "      <th>max</th>\n",
              "      <td>99223.000000</td>\n",
              "    </tr>\n",
              "  </tbody>\n",
              "</table>\n",
              "</div>"
            ],
            "text/plain": [
              "           Zip code\n",
              "count   2224.000000\n",
              "mean   47994.393435\n",
              "std    28885.279427\n",
              "min     1075.000000\n",
              "25%    30056.500000\n",
              "50%    37211.000000\n",
              "75%    77058.750000\n",
              "max    99223.000000"
            ]
          },
          "metadata": {},
          "execution_count": 90
        }
      ]
    },
    {
      "cell_type": "code",
      "metadata": {
        "colab": {
          "base_uri": "https://localhost:8080/"
        },
        "id": "RmOJDbTx5ze3",
        "outputId": "4f6e95ad-5c7c-44a5-cb4c-38f31da732be"
      },
      "source": [
        "df.iloc[-1]"
      ],
      "execution_count": null,
      "outputs": [
        {
          "output_type": "execute_result",
          "data": {
            "text/plain": [
              "Ticket #                                                     363614\n",
              "Customer Complaint             Comcast, Ypsilanti MI Internet Speed\n",
              "Date                                            2015-06-24 00:00:00\n",
              "Date_month_year                                 2015-06-24 00:00:00\n",
              "Time                                                    10:28:33 PM\n",
              "Received Via                                     Customer Care Call\n",
              "City                                                      Ypsilanti\n",
              "State                                                      Michigan\n",
              "Zip code                                                      48198\n",
              "Status                                                         Open\n",
              "Filing on Behalf of Someone                                     Yes\n",
              "Name: 2223, dtype: object"
            ]
          },
          "metadata": {},
          "execution_count": 91
        }
      ]
    },
    {
      "cell_type": "code",
      "metadata": {
        "colab": {
          "base_uri": "https://localhost:8080/"
        },
        "id": "bthh87BR56Bd",
        "outputId": "a8e36b84-b25f-46d3-cd8d-103a67ec5bee"
      },
      "source": [
        "df.iloc[:,0]"
      ],
      "execution_count": null,
      "outputs": [
        {
          "output_type": "execute_result",
          "data": {
            "text/plain": [
              "0       250635\n",
              "1       223441\n",
              "2       242732\n",
              "3       277946\n",
              "4       307175\n",
              "         ...  \n",
              "2219    213550\n",
              "2220    318775\n",
              "2221    331188\n",
              "2222    360489\n",
              "2223    363614\n",
              "Name: Ticket #, Length: 2224, dtype: object"
            ]
          },
          "metadata": {},
          "execution_count": 92
        }
      ]
    },
    {
      "cell_type": "code",
      "metadata": {
        "colab": {
          "base_uri": "https://localhost:8080/"
        },
        "id": "zsz8LVhy6CQz",
        "outputId": "acb4309c-0eb1-488a-8eba-17c58e9719e1"
      },
      "source": [
        "df.iloc[0,3]"
      ],
      "execution_count": null,
      "outputs": [
        {
          "output_type": "execute_result",
          "data": {
            "text/plain": [
              "Timestamp('2015-04-22 00:00:00')"
            ]
          },
          "metadata": {},
          "execution_count": 93
        }
      ]
    },
    {
      "cell_type": "code",
      "metadata": {
        "colab": {
          "base_uri": "https://localhost:8080/",
          "height": 363
        },
        "id": "1XVZtnz86S1u",
        "outputId": "70ded76a-9d58-4721-9844-577931182fab"
      },
      "source": [
        "df.iloc[0:10,0:2]"
      ],
      "execution_count": null,
      "outputs": [
        {
          "output_type": "execute_result",
          "data": {
            "text/html": [
              "<div>\n",
              "<style scoped>\n",
              "    .dataframe tbody tr th:only-of-type {\n",
              "        vertical-align: middle;\n",
              "    }\n",
              "\n",
              "    .dataframe tbody tr th {\n",
              "        vertical-align: top;\n",
              "    }\n",
              "\n",
              "    .dataframe thead th {\n",
              "        text-align: right;\n",
              "    }\n",
              "</style>\n",
              "<table border=\"1\" class=\"dataframe\">\n",
              "  <thead>\n",
              "    <tr style=\"text-align: right;\">\n",
              "      <th></th>\n",
              "      <th>Ticket #</th>\n",
              "      <th>Customer Complaint</th>\n",
              "    </tr>\n",
              "  </thead>\n",
              "  <tbody>\n",
              "    <tr>\n",
              "      <th>0</th>\n",
              "      <td>250635</td>\n",
              "      <td>Comcast Cable Internet Speeds</td>\n",
              "    </tr>\n",
              "    <tr>\n",
              "      <th>1</th>\n",
              "      <td>223441</td>\n",
              "      <td>Payment disappear - service got disconnected</td>\n",
              "    </tr>\n",
              "    <tr>\n",
              "      <th>2</th>\n",
              "      <td>242732</td>\n",
              "      <td>Speed and Service</td>\n",
              "    </tr>\n",
              "    <tr>\n",
              "      <th>3</th>\n",
              "      <td>277946</td>\n",
              "      <td>Comcast Imposed a New Usage Cap of 300GB that ...</td>\n",
              "    </tr>\n",
              "    <tr>\n",
              "      <th>4</th>\n",
              "      <td>307175</td>\n",
              "      <td>Comcast not working and no service to boot</td>\n",
              "    </tr>\n",
              "    <tr>\n",
              "      <th>5</th>\n",
              "      <td>338519</td>\n",
              "      <td>ISP Charging for arbitrary data limits with ov...</td>\n",
              "    </tr>\n",
              "    <tr>\n",
              "      <th>6</th>\n",
              "      <td>361148</td>\n",
              "      <td>Throttling service and unreasonable data caps</td>\n",
              "    </tr>\n",
              "    <tr>\n",
              "      <th>7</th>\n",
              "      <td>359792</td>\n",
              "      <td>Comcast refuses to help troubleshoot and corre...</td>\n",
              "    </tr>\n",
              "    <tr>\n",
              "      <th>8</th>\n",
              "      <td>318072</td>\n",
              "      <td>Comcast extended outages</td>\n",
              "    </tr>\n",
              "    <tr>\n",
              "      <th>9</th>\n",
              "      <td>371214</td>\n",
              "      <td>Comcast Raising Prices and Not Being Available...</td>\n",
              "    </tr>\n",
              "  </tbody>\n",
              "</table>\n",
              "</div>"
            ],
            "text/plain": [
              "  Ticket #                                 Customer Complaint\n",
              "0   250635                      Comcast Cable Internet Speeds\n",
              "1   223441       Payment disappear - service got disconnected\n",
              "2   242732                                  Speed and Service\n",
              "3   277946  Comcast Imposed a New Usage Cap of 300GB that ...\n",
              "4   307175         Comcast not working and no service to boot\n",
              "5   338519  ISP Charging for arbitrary data limits with ov...\n",
              "6   361148      Throttling service and unreasonable data caps\n",
              "7   359792  Comcast refuses to help troubleshoot and corre...\n",
              "8   318072                           Comcast extended outages\n",
              "9   371214  Comcast Raising Prices and Not Being Available..."
            ]
          },
          "metadata": {},
          "execution_count": 94
        }
      ]
    },
    {
      "cell_type": "code",
      "metadata": {
        "colab": {
          "base_uri": "https://localhost:8080/",
          "height": 143
        },
        "id": "F2UnS5Zj6aEZ",
        "outputId": "18c3551b-8709-4735-e045-46313177b570"
      },
      "source": [
        "df.iloc[[0,5,10],[0,1,2]]"
      ],
      "execution_count": null,
      "outputs": [
        {
          "output_type": "execute_result",
          "data": {
            "text/html": [
              "<div>\n",
              "<style scoped>\n",
              "    .dataframe tbody tr th:only-of-type {\n",
              "        vertical-align: middle;\n",
              "    }\n",
              "\n",
              "    .dataframe tbody tr th {\n",
              "        vertical-align: top;\n",
              "    }\n",
              "\n",
              "    .dataframe thead th {\n",
              "        text-align: right;\n",
              "    }\n",
              "</style>\n",
              "<table border=\"1\" class=\"dataframe\">\n",
              "  <thead>\n",
              "    <tr style=\"text-align: right;\">\n",
              "      <th></th>\n",
              "      <th>Ticket #</th>\n",
              "      <th>Customer Complaint</th>\n",
              "      <th>Date</th>\n",
              "    </tr>\n",
              "  </thead>\n",
              "  <tbody>\n",
              "    <tr>\n",
              "      <th>0</th>\n",
              "      <td>250635</td>\n",
              "      <td>Comcast Cable Internet Speeds</td>\n",
              "      <td>2015-04-22</td>\n",
              "    </tr>\n",
              "    <tr>\n",
              "      <th>5</th>\n",
              "      <td>338519</td>\n",
              "      <td>ISP Charging for arbitrary data limits with ov...</td>\n",
              "      <td>2015-12-06</td>\n",
              "    </tr>\n",
              "    <tr>\n",
              "      <th>10</th>\n",
              "      <td>255938</td>\n",
              "      <td>Billing after service was asked to be disconne...</td>\n",
              "      <td>2015-04-24</td>\n",
              "    </tr>\n",
              "  </tbody>\n",
              "</table>\n",
              "</div>"
            ],
            "text/plain": [
              "   Ticket #                                 Customer Complaint       Date\n",
              "0    250635                      Comcast Cable Internet Speeds 2015-04-22\n",
              "5    338519  ISP Charging for arbitrary data limits with ov... 2015-12-06\n",
              "10   255938  Billing after service was asked to be disconne... 2015-04-24"
            ]
          },
          "metadata": {},
          "execution_count": 95
        }
      ]
    },
    {
      "cell_type": "markdown",
      "source": [
        "UNIQUE VALUES IN EACH COLUMN"
      ],
      "metadata": {
        "id": "vX0y10-SYWe3"
      }
    },
    {
      "cell_type": "code",
      "metadata": {
        "id": "KGtNqlLm4AHU",
        "colab": {
          "base_uri": "https://localhost:8080/",
          "height": 394
        },
        "outputId": "b56f9822-5c80-4cb4-cf77-f901b17669d0"
      },
      "source": [
        "dict = {}\n",
        "for i in list(df.columns):\n",
        "    dict[i] = df[i].value_counts().shape[0]\n",
        "\n",
        "pd.DataFrame(dict,index=[\"unique count\"]).transpose()"
      ],
      "execution_count": null,
      "outputs": [
        {
          "output_type": "execute_result",
          "data": {
            "text/html": [
              "<div>\n",
              "<style scoped>\n",
              "    .dataframe tbody tr th:only-of-type {\n",
              "        vertical-align: middle;\n",
              "    }\n",
              "\n",
              "    .dataframe tbody tr th {\n",
              "        vertical-align: top;\n",
              "    }\n",
              "\n",
              "    .dataframe thead th {\n",
              "        text-align: right;\n",
              "    }\n",
              "</style>\n",
              "<table border=\"1\" class=\"dataframe\">\n",
              "  <thead>\n",
              "    <tr style=\"text-align: right;\">\n",
              "      <th></th>\n",
              "      <th>unique count</th>\n",
              "    </tr>\n",
              "  </thead>\n",
              "  <tbody>\n",
              "    <tr>\n",
              "      <th>Ticket #</th>\n",
              "      <td>2224</td>\n",
              "    </tr>\n",
              "    <tr>\n",
              "      <th>Customer Complaint</th>\n",
              "      <td>1841</td>\n",
              "    </tr>\n",
              "    <tr>\n",
              "      <th>Date</th>\n",
              "      <td>91</td>\n",
              "    </tr>\n",
              "    <tr>\n",
              "      <th>Date_month_year</th>\n",
              "      <td>91</td>\n",
              "    </tr>\n",
              "    <tr>\n",
              "      <th>Time</th>\n",
              "      <td>2190</td>\n",
              "    </tr>\n",
              "    <tr>\n",
              "      <th>Received Via</th>\n",
              "      <td>2</td>\n",
              "    </tr>\n",
              "    <tr>\n",
              "      <th>City</th>\n",
              "      <td>928</td>\n",
              "    </tr>\n",
              "    <tr>\n",
              "      <th>State</th>\n",
              "      <td>43</td>\n",
              "    </tr>\n",
              "    <tr>\n",
              "      <th>Zip code</th>\n",
              "      <td>1543</td>\n",
              "    </tr>\n",
              "    <tr>\n",
              "      <th>Status</th>\n",
              "      <td>4</td>\n",
              "    </tr>\n",
              "    <tr>\n",
              "      <th>Filing on Behalf of Someone</th>\n",
              "      <td>2</td>\n",
              "    </tr>\n",
              "  </tbody>\n",
              "</table>\n",
              "</div>"
            ],
            "text/plain": [
              "                             unique count\n",
              "Ticket #                             2224\n",
              "Customer Complaint                   1841\n",
              "Date                                   91\n",
              "Date_month_year                        91\n",
              "Time                                 2190\n",
              "Received Via                            2\n",
              "City                                  928\n",
              "State                                  43\n",
              "Zip code                             1543\n",
              "Status                                  4\n",
              "Filing on Behalf of Someone             2"
            ]
          },
          "metadata": {},
          "execution_count": 97
        }
      ]
    },
    {
      "cell_type": "code",
      "metadata": {
        "id": "e1SYAdGz4mRb",
        "colab": {
          "base_uri": "https://localhost:8080/",
          "height": 424
        },
        "outputId": "550349dc-236e-4054-d737-6acfb1e0a3a6"
      },
      "source": [
        "df.isnull()"
      ],
      "execution_count": null,
      "outputs": [
        {
          "output_type": "execute_result",
          "data": {
            "text/html": [
              "<div>\n",
              "<style scoped>\n",
              "    .dataframe tbody tr th:only-of-type {\n",
              "        vertical-align: middle;\n",
              "    }\n",
              "\n",
              "    .dataframe tbody tr th {\n",
              "        vertical-align: top;\n",
              "    }\n",
              "\n",
              "    .dataframe thead th {\n",
              "        text-align: right;\n",
              "    }\n",
              "</style>\n",
              "<table border=\"1\" class=\"dataframe\">\n",
              "  <thead>\n",
              "    <tr style=\"text-align: right;\">\n",
              "      <th></th>\n",
              "      <th>Ticket #</th>\n",
              "      <th>Customer Complaint</th>\n",
              "      <th>Date</th>\n",
              "      <th>Date_month_year</th>\n",
              "      <th>Time</th>\n",
              "      <th>Received Via</th>\n",
              "      <th>City</th>\n",
              "      <th>State</th>\n",
              "      <th>Zip code</th>\n",
              "      <th>Status</th>\n",
              "      <th>Filing on Behalf of Someone</th>\n",
              "    </tr>\n",
              "  </thead>\n",
              "  <tbody>\n",
              "    <tr>\n",
              "      <th>0</th>\n",
              "      <td>False</td>\n",
              "      <td>False</td>\n",
              "      <td>False</td>\n",
              "      <td>False</td>\n",
              "      <td>False</td>\n",
              "      <td>False</td>\n",
              "      <td>False</td>\n",
              "      <td>False</td>\n",
              "      <td>False</td>\n",
              "      <td>False</td>\n",
              "      <td>False</td>\n",
              "    </tr>\n",
              "    <tr>\n",
              "      <th>1</th>\n",
              "      <td>False</td>\n",
              "      <td>False</td>\n",
              "      <td>False</td>\n",
              "      <td>False</td>\n",
              "      <td>False</td>\n",
              "      <td>False</td>\n",
              "      <td>False</td>\n",
              "      <td>False</td>\n",
              "      <td>False</td>\n",
              "      <td>False</td>\n",
              "      <td>False</td>\n",
              "    </tr>\n",
              "    <tr>\n",
              "      <th>2</th>\n",
              "      <td>False</td>\n",
              "      <td>False</td>\n",
              "      <td>False</td>\n",
              "      <td>False</td>\n",
              "      <td>False</td>\n",
              "      <td>False</td>\n",
              "      <td>False</td>\n",
              "      <td>False</td>\n",
              "      <td>False</td>\n",
              "      <td>False</td>\n",
              "      <td>False</td>\n",
              "    </tr>\n",
              "    <tr>\n",
              "      <th>3</th>\n",
              "      <td>False</td>\n",
              "      <td>False</td>\n",
              "      <td>False</td>\n",
              "      <td>False</td>\n",
              "      <td>False</td>\n",
              "      <td>False</td>\n",
              "      <td>False</td>\n",
              "      <td>False</td>\n",
              "      <td>False</td>\n",
              "      <td>False</td>\n",
              "      <td>False</td>\n",
              "    </tr>\n",
              "    <tr>\n",
              "      <th>4</th>\n",
              "      <td>False</td>\n",
              "      <td>False</td>\n",
              "      <td>False</td>\n",
              "      <td>False</td>\n",
              "      <td>False</td>\n",
              "      <td>False</td>\n",
              "      <td>False</td>\n",
              "      <td>False</td>\n",
              "      <td>False</td>\n",
              "      <td>False</td>\n",
              "      <td>False</td>\n",
              "    </tr>\n",
              "    <tr>\n",
              "      <th>...</th>\n",
              "      <td>...</td>\n",
              "      <td>...</td>\n",
              "      <td>...</td>\n",
              "      <td>...</td>\n",
              "      <td>...</td>\n",
              "      <td>...</td>\n",
              "      <td>...</td>\n",
              "      <td>...</td>\n",
              "      <td>...</td>\n",
              "      <td>...</td>\n",
              "      <td>...</td>\n",
              "    </tr>\n",
              "    <tr>\n",
              "      <th>2219</th>\n",
              "      <td>False</td>\n",
              "      <td>False</td>\n",
              "      <td>False</td>\n",
              "      <td>False</td>\n",
              "      <td>False</td>\n",
              "      <td>False</td>\n",
              "      <td>False</td>\n",
              "      <td>False</td>\n",
              "      <td>False</td>\n",
              "      <td>False</td>\n",
              "      <td>False</td>\n",
              "    </tr>\n",
              "    <tr>\n",
              "      <th>2220</th>\n",
              "      <td>False</td>\n",
              "      <td>False</td>\n",
              "      <td>False</td>\n",
              "      <td>False</td>\n",
              "      <td>False</td>\n",
              "      <td>False</td>\n",
              "      <td>False</td>\n",
              "      <td>False</td>\n",
              "      <td>False</td>\n",
              "      <td>False</td>\n",
              "      <td>False</td>\n",
              "    </tr>\n",
              "    <tr>\n",
              "      <th>2221</th>\n",
              "      <td>False</td>\n",
              "      <td>False</td>\n",
              "      <td>False</td>\n",
              "      <td>False</td>\n",
              "      <td>False</td>\n",
              "      <td>False</td>\n",
              "      <td>False</td>\n",
              "      <td>False</td>\n",
              "      <td>False</td>\n",
              "      <td>False</td>\n",
              "      <td>False</td>\n",
              "    </tr>\n",
              "    <tr>\n",
              "      <th>2222</th>\n",
              "      <td>False</td>\n",
              "      <td>False</td>\n",
              "      <td>False</td>\n",
              "      <td>False</td>\n",
              "      <td>False</td>\n",
              "      <td>False</td>\n",
              "      <td>False</td>\n",
              "      <td>False</td>\n",
              "      <td>False</td>\n",
              "      <td>False</td>\n",
              "      <td>False</td>\n",
              "    </tr>\n",
              "    <tr>\n",
              "      <th>2223</th>\n",
              "      <td>False</td>\n",
              "      <td>False</td>\n",
              "      <td>False</td>\n",
              "      <td>False</td>\n",
              "      <td>False</td>\n",
              "      <td>False</td>\n",
              "      <td>False</td>\n",
              "      <td>False</td>\n",
              "      <td>False</td>\n",
              "      <td>False</td>\n",
              "      <td>False</td>\n",
              "    </tr>\n",
              "  </tbody>\n",
              "</table>\n",
              "<p>2224 rows × 11 columns</p>\n",
              "</div>"
            ],
            "text/plain": [
              "      Ticket #  Customer Complaint  ...  Status  Filing on Behalf of Someone\n",
              "0        False               False  ...   False                        False\n",
              "1        False               False  ...   False                        False\n",
              "2        False               False  ...   False                        False\n",
              "3        False               False  ...   False                        False\n",
              "4        False               False  ...   False                        False\n",
              "...        ...                 ...  ...     ...                          ...\n",
              "2219     False               False  ...   False                        False\n",
              "2220     False               False  ...   False                        False\n",
              "2221     False               False  ...   False                        False\n",
              "2222     False               False  ...   False                        False\n",
              "2223     False               False  ...   False                        False\n",
              "\n",
              "[2224 rows x 11 columns]"
            ]
          },
          "metadata": {},
          "execution_count": 98
        }
      ]
    },
    {
      "cell_type": "code",
      "metadata": {
        "id": "PptdrYem433T",
        "colab": {
          "base_uri": "https://localhost:8080/"
        },
        "outputId": "2b366c32-52de-421d-ae20-bc712fc140f9"
      },
      "source": [
        "df.isnull().sum()"
      ],
      "execution_count": null,
      "outputs": [
        {
          "output_type": "execute_result",
          "data": {
            "text/plain": [
              "Ticket #                       0\n",
              "Customer Complaint             0\n",
              "Date                           0\n",
              "Date_month_year                0\n",
              "Time                           0\n",
              "Received Via                   0\n",
              "City                           0\n",
              "State                          0\n",
              "Zip code                       0\n",
              "Status                         0\n",
              "Filing on Behalf of Someone    0\n",
              "dtype: int64"
            ]
          },
          "metadata": {},
          "execution_count": 99
        }
      ]
    },
    {
      "cell_type": "code",
      "metadata": {
        "id": "VRYBNEHw5DUx",
        "colab": {
          "base_uri": "https://localhost:8080/"
        },
        "outputId": "d597e550-4e56-4291-bedc-4e0910f0cb14"
      },
      "source": [
        "df.isnull().sum().sum()"
      ],
      "execution_count": null,
      "outputs": [
        {
          "output_type": "execute_result",
          "data": {
            "text/plain": [
              "0"
            ]
          },
          "metadata": {},
          "execution_count": 100
        }
      ]
    },
    {
      "cell_type": "markdown",
      "source": [
        "No duplicate rows are Present."
      ],
      "metadata": {
        "id": "Xhk27pAbZBsg"
      }
    },
    {
      "cell_type": "markdown",
      "metadata": {
        "id": "iW3cL35o-Ipw"
      },
      "source": [
        "Data Cleaning"
      ]
    },
    {
      "cell_type": "code",
      "metadata": {
        "id": "p3XYK2hj-U8g",
        "outputId": "0c4d8665-6bae-4c00-b09c-42c3df47e548",
        "colab": {
          "base_uri": "https://localhost:8080/",
          "height": 424
        }
      },
      "source": [
        "df.isnull()"
      ],
      "execution_count": null,
      "outputs": [
        {
          "output_type": "execute_result",
          "data": {
            "text/html": [
              "<div>\n",
              "<style scoped>\n",
              "    .dataframe tbody tr th:only-of-type {\n",
              "        vertical-align: middle;\n",
              "    }\n",
              "\n",
              "    .dataframe tbody tr th {\n",
              "        vertical-align: top;\n",
              "    }\n",
              "\n",
              "    .dataframe thead th {\n",
              "        text-align: right;\n",
              "    }\n",
              "</style>\n",
              "<table border=\"1\" class=\"dataframe\">\n",
              "  <thead>\n",
              "    <tr style=\"text-align: right;\">\n",
              "      <th></th>\n",
              "      <th>Ticket #</th>\n",
              "      <th>Customer Complaint</th>\n",
              "      <th>Date</th>\n",
              "      <th>Date_month_year</th>\n",
              "      <th>Time</th>\n",
              "      <th>Received Via</th>\n",
              "      <th>City</th>\n",
              "      <th>State</th>\n",
              "      <th>Zip code</th>\n",
              "      <th>Status</th>\n",
              "      <th>Filing on Behalf of Someone</th>\n",
              "    </tr>\n",
              "  </thead>\n",
              "  <tbody>\n",
              "    <tr>\n",
              "      <th>0</th>\n",
              "      <td>False</td>\n",
              "      <td>False</td>\n",
              "      <td>False</td>\n",
              "      <td>False</td>\n",
              "      <td>False</td>\n",
              "      <td>False</td>\n",
              "      <td>False</td>\n",
              "      <td>False</td>\n",
              "      <td>False</td>\n",
              "      <td>False</td>\n",
              "      <td>False</td>\n",
              "    </tr>\n",
              "    <tr>\n",
              "      <th>1</th>\n",
              "      <td>False</td>\n",
              "      <td>False</td>\n",
              "      <td>False</td>\n",
              "      <td>False</td>\n",
              "      <td>False</td>\n",
              "      <td>False</td>\n",
              "      <td>False</td>\n",
              "      <td>False</td>\n",
              "      <td>False</td>\n",
              "      <td>False</td>\n",
              "      <td>False</td>\n",
              "    </tr>\n",
              "    <tr>\n",
              "      <th>2</th>\n",
              "      <td>False</td>\n",
              "      <td>False</td>\n",
              "      <td>False</td>\n",
              "      <td>False</td>\n",
              "      <td>False</td>\n",
              "      <td>False</td>\n",
              "      <td>False</td>\n",
              "      <td>False</td>\n",
              "      <td>False</td>\n",
              "      <td>False</td>\n",
              "      <td>False</td>\n",
              "    </tr>\n",
              "    <tr>\n",
              "      <th>3</th>\n",
              "      <td>False</td>\n",
              "      <td>False</td>\n",
              "      <td>False</td>\n",
              "      <td>False</td>\n",
              "      <td>False</td>\n",
              "      <td>False</td>\n",
              "      <td>False</td>\n",
              "      <td>False</td>\n",
              "      <td>False</td>\n",
              "      <td>False</td>\n",
              "      <td>False</td>\n",
              "    </tr>\n",
              "    <tr>\n",
              "      <th>4</th>\n",
              "      <td>False</td>\n",
              "      <td>False</td>\n",
              "      <td>False</td>\n",
              "      <td>False</td>\n",
              "      <td>False</td>\n",
              "      <td>False</td>\n",
              "      <td>False</td>\n",
              "      <td>False</td>\n",
              "      <td>False</td>\n",
              "      <td>False</td>\n",
              "      <td>False</td>\n",
              "    </tr>\n",
              "    <tr>\n",
              "      <th>...</th>\n",
              "      <td>...</td>\n",
              "      <td>...</td>\n",
              "      <td>...</td>\n",
              "      <td>...</td>\n",
              "      <td>...</td>\n",
              "      <td>...</td>\n",
              "      <td>...</td>\n",
              "      <td>...</td>\n",
              "      <td>...</td>\n",
              "      <td>...</td>\n",
              "      <td>...</td>\n",
              "    </tr>\n",
              "    <tr>\n",
              "      <th>2219</th>\n",
              "      <td>False</td>\n",
              "      <td>False</td>\n",
              "      <td>False</td>\n",
              "      <td>False</td>\n",
              "      <td>False</td>\n",
              "      <td>False</td>\n",
              "      <td>False</td>\n",
              "      <td>False</td>\n",
              "      <td>False</td>\n",
              "      <td>False</td>\n",
              "      <td>False</td>\n",
              "    </tr>\n",
              "    <tr>\n",
              "      <th>2220</th>\n",
              "      <td>False</td>\n",
              "      <td>False</td>\n",
              "      <td>False</td>\n",
              "      <td>False</td>\n",
              "      <td>False</td>\n",
              "      <td>False</td>\n",
              "      <td>False</td>\n",
              "      <td>False</td>\n",
              "      <td>False</td>\n",
              "      <td>False</td>\n",
              "      <td>False</td>\n",
              "    </tr>\n",
              "    <tr>\n",
              "      <th>2221</th>\n",
              "      <td>False</td>\n",
              "      <td>False</td>\n",
              "      <td>False</td>\n",
              "      <td>False</td>\n",
              "      <td>False</td>\n",
              "      <td>False</td>\n",
              "      <td>False</td>\n",
              "      <td>False</td>\n",
              "      <td>False</td>\n",
              "      <td>False</td>\n",
              "      <td>False</td>\n",
              "    </tr>\n",
              "    <tr>\n",
              "      <th>2222</th>\n",
              "      <td>False</td>\n",
              "      <td>False</td>\n",
              "      <td>False</td>\n",
              "      <td>False</td>\n",
              "      <td>False</td>\n",
              "      <td>False</td>\n",
              "      <td>False</td>\n",
              "      <td>False</td>\n",
              "      <td>False</td>\n",
              "      <td>False</td>\n",
              "      <td>False</td>\n",
              "    </tr>\n",
              "    <tr>\n",
              "      <th>2223</th>\n",
              "      <td>False</td>\n",
              "      <td>False</td>\n",
              "      <td>False</td>\n",
              "      <td>False</td>\n",
              "      <td>False</td>\n",
              "      <td>False</td>\n",
              "      <td>False</td>\n",
              "      <td>False</td>\n",
              "      <td>False</td>\n",
              "      <td>False</td>\n",
              "      <td>False</td>\n",
              "    </tr>\n",
              "  </tbody>\n",
              "</table>\n",
              "<p>2224 rows × 11 columns</p>\n",
              "</div>"
            ],
            "text/plain": [
              "      Ticket #  Customer Complaint  ...  Status  Filing on Behalf of Someone\n",
              "0        False               False  ...   False                        False\n",
              "1        False               False  ...   False                        False\n",
              "2        False               False  ...   False                        False\n",
              "3        False               False  ...   False                        False\n",
              "4        False               False  ...   False                        False\n",
              "...        ...                 ...  ...     ...                          ...\n",
              "2219     False               False  ...   False                        False\n",
              "2220     False               False  ...   False                        False\n",
              "2221     False               False  ...   False                        False\n",
              "2222     False               False  ...   False                        False\n",
              "2223     False               False  ...   False                        False\n",
              "\n",
              "[2224 rows x 11 columns]"
            ]
          },
          "metadata": {},
          "execution_count": 101
        }
      ]
    },
    {
      "cell_type": "code",
      "metadata": {
        "colab": {
          "base_uri": "https://localhost:8080/"
        },
        "id": "fQ9pLp2r6_IT",
        "outputId": "6cfee5ef-cb06-41eb-c062-387eaca7ec06"
      },
      "source": [
        "df.isnull().sum()"
      ],
      "execution_count": null,
      "outputs": [
        {
          "output_type": "execute_result",
          "data": {
            "text/plain": [
              "Ticket #                       0\n",
              "Customer Complaint             0\n",
              "Date                           0\n",
              "Date_month_year                0\n",
              "Time                           0\n",
              "Received Via                   0\n",
              "City                           0\n",
              "State                          0\n",
              "Zip code                       0\n",
              "Status                         0\n",
              "Filing on Behalf of Someone    0\n",
              "dtype: int64"
            ]
          },
          "metadata": {},
          "execution_count": 102
        }
      ]
    },
    {
      "cell_type": "markdown",
      "metadata": {
        "id": "1r6Htdb69Yxb"
      },
      "source": [
        "No missing values in the data set."
      ]
    },
    {
      "cell_type": "code",
      "metadata": {
        "colab": {
          "base_uri": "https://localhost:8080/"
        },
        "id": "cRxEh8ey8_Yk",
        "outputId": "fdc133d8-d91b-44bb-d7cf-53ba54381534"
      },
      "source": [
        "# Removing Duplicates\n",
        "# Return boolean Series denoting duplicate rows.\n",
        "df.duplicated()"
      ],
      "execution_count": null,
      "outputs": [
        {
          "output_type": "execute_result",
          "data": {
            "text/plain": [
              "0       False\n",
              "1       False\n",
              "2       False\n",
              "3       False\n",
              "4       False\n",
              "        ...  \n",
              "2219    False\n",
              "2220    False\n",
              "2221    False\n",
              "2222    False\n",
              "2223    False\n",
              "Length: 2224, dtype: bool"
            ]
          },
          "metadata": {},
          "execution_count": 103
        }
      ]
    },
    {
      "cell_type": "code",
      "metadata": {
        "colab": {
          "base_uri": "https://localhost:8080/"
        },
        "id": "z-qiXMra9DYm",
        "outputId": "c8268333-da86-4dbb-ff5f-02924edf97de"
      },
      "source": [
        "df.duplicated().sum()"
      ],
      "execution_count": null,
      "outputs": [
        {
          "output_type": "execute_result",
          "data": {
            "text/plain": [
              "0"
            ]
          },
          "metadata": {},
          "execution_count": 104
        }
      ]
    },
    {
      "cell_type": "markdown",
      "metadata": {
        "id": "luy285929J_y"
      },
      "source": [
        "No duplicate rows are Present"
      ]
    },
    {
      "cell_type": "markdown",
      "metadata": {
        "id": "DGji_-ew9P0Z"
      },
      "source": [
        "Data is clean"
      ]
    },
    {
      "cell_type": "markdown",
      "source": [
        "EDA"
      ],
      "metadata": {
        "id": "067U3ku0Bph4"
      }
    },
    {
      "cell_type": "code",
      "metadata": {
        "id": "TSm8w5vw9L8R",
        "colab": {
          "base_uri": "https://localhost:8080/"
        },
        "outputId": "ffd09679-0be3-4867-fa87-2c0eaeeaa7b6"
      },
      "source": [
        "#To get Customer status count\n",
        "df['Status'].value_counts()"
      ],
      "execution_count": null,
      "outputs": [
        {
          "output_type": "execute_result",
          "data": {
            "text/plain": [
              "Solved     973\n",
              "Closed     734\n",
              "Open       363\n",
              "Pending    154\n",
              "Name: Status, dtype: int64"
            ]
          },
          "metadata": {},
          "execution_count": 105
        }
      ]
    },
    {
      "cell_type": "code",
      "source": [
        "#Top 5 state has the maximum complaints\n",
        "df.groupby(\"State\")['Customer Complaint'].agg(\"count\").sort_values(ascending=False).head(5)"
      ],
      "metadata": {
        "colab": {
          "base_uri": "https://localhost:8080/"
        },
        "id": "FmedglJ0B7GP",
        "outputId": "5dfb481f-dff3-41b3-94e5-24bd8df90eea"
      },
      "execution_count": null,
      "outputs": [
        {
          "output_type": "execute_result",
          "data": {
            "text/plain": [
              "State\n",
              "Georgia       288\n",
              "Florida       240\n",
              "California    220\n",
              "Illinois      164\n",
              "Tennessee     143\n",
              "Name: Customer Complaint, dtype: int64"
            ]
          },
          "metadata": {},
          "execution_count": 106
        }
      ]
    },
    {
      "cell_type": "code",
      "source": [
        "# number of complaints at Different Months\n",
        "complaints_months=pd.DataFrame(df.groupby(pd.to_datetime(df['Date_month_year']).dt.month_name())['Customer Complaint'].count())\n",
        "complaints_months.rename(columns = {'Customer Complaint':'No of Complaints'}, inplace = True)\n",
        "complaints_months.index.name = 'Month'\n",
        "complaints_months"
      ],
      "metadata": {
        "colab": {
          "base_uri": "https://localhost:8080/",
          "height": 457
        },
        "id": "_gkIDG16CB4v",
        "outputId": "703d1e7a-5a5a-4678-d23b-de3a1d1bc9e2"
      },
      "execution_count": null,
      "outputs": [
        {
          "output_type": "execute_result",
          "data": {
            "text/html": [
              "<div>\n",
              "<style scoped>\n",
              "    .dataframe tbody tr th:only-of-type {\n",
              "        vertical-align: middle;\n",
              "    }\n",
              "\n",
              "    .dataframe tbody tr th {\n",
              "        vertical-align: top;\n",
              "    }\n",
              "\n",
              "    .dataframe thead th {\n",
              "        text-align: right;\n",
              "    }\n",
              "</style>\n",
              "<table border=\"1\" class=\"dataframe\">\n",
              "  <thead>\n",
              "    <tr style=\"text-align: right;\">\n",
              "      <th></th>\n",
              "      <th>No of Complaints</th>\n",
              "    </tr>\n",
              "    <tr>\n",
              "      <th>Month</th>\n",
              "      <th></th>\n",
              "    </tr>\n",
              "  </thead>\n",
              "  <tbody>\n",
              "    <tr>\n",
              "      <th>April</th>\n",
              "      <td>375</td>\n",
              "    </tr>\n",
              "    <tr>\n",
              "      <th>August</th>\n",
              "      <td>67</td>\n",
              "    </tr>\n",
              "    <tr>\n",
              "      <th>December</th>\n",
              "      <td>65</td>\n",
              "    </tr>\n",
              "    <tr>\n",
              "      <th>February</th>\n",
              "      <td>59</td>\n",
              "    </tr>\n",
              "    <tr>\n",
              "      <th>January</th>\n",
              "      <td>55</td>\n",
              "    </tr>\n",
              "    <tr>\n",
              "      <th>July</th>\n",
              "      <td>49</td>\n",
              "    </tr>\n",
              "    <tr>\n",
              "      <th>June</th>\n",
              "      <td>1046</td>\n",
              "    </tr>\n",
              "    <tr>\n",
              "      <th>March</th>\n",
              "      <td>45</td>\n",
              "    </tr>\n",
              "    <tr>\n",
              "      <th>May</th>\n",
              "      <td>317</td>\n",
              "    </tr>\n",
              "    <tr>\n",
              "      <th>November</th>\n",
              "      <td>38</td>\n",
              "    </tr>\n",
              "    <tr>\n",
              "      <th>October</th>\n",
              "      <td>53</td>\n",
              "    </tr>\n",
              "    <tr>\n",
              "      <th>September</th>\n",
              "      <td>55</td>\n",
              "    </tr>\n",
              "  </tbody>\n",
              "</table>\n",
              "</div>"
            ],
            "text/plain": [
              "           No of Complaints\n",
              "Month                      \n",
              "April                   375\n",
              "August                   67\n",
              "December                 65\n",
              "February                 59\n",
              "January                  55\n",
              "July                     49\n",
              "June                   1046\n",
              "March                    45\n",
              "May                     317\n",
              "November                 38\n",
              "October                  53\n",
              "September                55"
            ]
          },
          "metadata": {},
          "execution_count": 107
        }
      ]
    },
    {
      "cell_type": "code",
      "source": [
        "# number of complaints at Differenet Days in a month\n",
        "complaints_days=pd.DataFrame(df.groupby(pd.to_datetime(df['Date_month_year']).dt.day)['Customer Complaint'].count())\n",
        "complaints_days.rename(columns = {'Customer Complaint':'No of Complaints'}, inplace = True)\n",
        "complaints_days.index.name = 'Date'\n",
        "complaints_days"
      ],
      "metadata": {
        "colab": {
          "base_uri": "https://localhost:8080/",
          "height": 771
        },
        "id": "12yTYUQVCHY9",
        "outputId": "81255ef4-fab4-4e52-d043-9cd611c56b58"
      },
      "execution_count": null,
      "outputs": [
        {
          "output_type": "execute_result",
          "data": {
            "text/html": [
              "<div>\n",
              "<style scoped>\n",
              "    .dataframe tbody tr th:only-of-type {\n",
              "        vertical-align: middle;\n",
              "    }\n",
              "\n",
              "    .dataframe tbody tr th {\n",
              "        vertical-align: top;\n",
              "    }\n",
              "\n",
              "    .dataframe thead th {\n",
              "        text-align: right;\n",
              "    }\n",
              "</style>\n",
              "<table border=\"1\" class=\"dataframe\">\n",
              "  <thead>\n",
              "    <tr style=\"text-align: right;\">\n",
              "      <th></th>\n",
              "      <th>No of Complaints</th>\n",
              "    </tr>\n",
              "    <tr>\n",
              "      <th>Date</th>\n",
              "      <th></th>\n",
              "    </tr>\n",
              "  </thead>\n",
              "  <tbody>\n",
              "    <tr>\n",
              "      <th>4</th>\n",
              "      <td>206</td>\n",
              "    </tr>\n",
              "    <tr>\n",
              "      <th>5</th>\n",
              "      <td>131</td>\n",
              "    </tr>\n",
              "    <tr>\n",
              "      <th>6</th>\n",
              "      <td>272</td>\n",
              "    </tr>\n",
              "    <tr>\n",
              "      <th>13</th>\n",
              "      <td>68</td>\n",
              "    </tr>\n",
              "    <tr>\n",
              "      <th>14</th>\n",
              "      <td>54</td>\n",
              "    </tr>\n",
              "    <tr>\n",
              "      <th>15</th>\n",
              "      <td>58</td>\n",
              "    </tr>\n",
              "    <tr>\n",
              "      <th>16</th>\n",
              "      <td>65</td>\n",
              "    </tr>\n",
              "    <tr>\n",
              "      <th>17</th>\n",
              "      <td>60</td>\n",
              "    </tr>\n",
              "    <tr>\n",
              "      <th>18</th>\n",
              "      <td>69</td>\n",
              "    </tr>\n",
              "    <tr>\n",
              "      <th>19</th>\n",
              "      <td>50</td>\n",
              "    </tr>\n",
              "    <tr>\n",
              "      <th>20</th>\n",
              "      <td>51</td>\n",
              "    </tr>\n",
              "    <tr>\n",
              "      <th>21</th>\n",
              "      <td>41</td>\n",
              "    </tr>\n",
              "    <tr>\n",
              "      <th>22</th>\n",
              "      <td>66</td>\n",
              "    </tr>\n",
              "    <tr>\n",
              "      <th>23</th>\n",
              "      <td>225</td>\n",
              "    </tr>\n",
              "    <tr>\n",
              "      <th>24</th>\n",
              "      <td>249</td>\n",
              "    </tr>\n",
              "    <tr>\n",
              "      <th>25</th>\n",
              "      <td>126</td>\n",
              "    </tr>\n",
              "    <tr>\n",
              "      <th>26</th>\n",
              "      <td>90</td>\n",
              "    </tr>\n",
              "    <tr>\n",
              "      <th>27</th>\n",
              "      <td>81</td>\n",
              "    </tr>\n",
              "    <tr>\n",
              "      <th>28</th>\n",
              "      <td>79</td>\n",
              "    </tr>\n",
              "    <tr>\n",
              "      <th>29</th>\n",
              "      <td>87</td>\n",
              "    </tr>\n",
              "    <tr>\n",
              "      <th>30</th>\n",
              "      <td>86</td>\n",
              "    </tr>\n",
              "    <tr>\n",
              "      <th>31</th>\n",
              "      <td>10</td>\n",
              "    </tr>\n",
              "  </tbody>\n",
              "</table>\n",
              "</div>"
            ],
            "text/plain": [
              "      No of Complaints\n",
              "Date                  \n",
              "4                  206\n",
              "5                  131\n",
              "6                  272\n",
              "13                  68\n",
              "14                  54\n",
              "15                  58\n",
              "16                  65\n",
              "17                  60\n",
              "18                  69\n",
              "19                  50\n",
              "20                  51\n",
              "21                  41\n",
              "22                  66\n",
              "23                 225\n",
              "24                 249\n",
              "25                 126\n",
              "26                  90\n",
              "27                  81\n",
              "28                  79\n",
              "29                  87\n",
              "30                  86\n",
              "31                  10"
            ]
          },
          "metadata": {},
          "execution_count": 108
        }
      ]
    },
    {
      "cell_type": "markdown",
      "source": [
        "FEATURE ENGINEERING"
      ],
      "metadata": {
        "id": "jhVzYNDwUtxE"
      }
    },
    {
      "cell_type": "code",
      "source": [
        "#Dropping the specific city string value\n",
        "\n",
        "df = df.loc[df['City'] != 'Attalla']\n",
        "df = df.loc[df['City'] != 'Chicago']"
      ],
      "metadata": {
        "id": "BzOzAj_6ZyaL"
      },
      "execution_count": null,
      "outputs": []
    },
    {
      "cell_type": "code",
      "metadata": {
        "id": "Lp3ocgGozZZn"
      },
      "source": [
        "#Category Encoding\n",
        "df['City'] = df['City'].astype('category').cat.codes\n",
        "df['State'] = df['State'].astype('category').cat.codes\n",
        "df['Status'] = df['Status'].astype('category').cat.codes\n",
        "df['Zip code'] = df['Zip code'].astype('category').cat.codes\n",
        "df['Received Via'] = df['Received Via'].astype('category').cat.codes\n"
      ],
      "execution_count": null,
      "outputs": []
    },
    {
      "cell_type": "code",
      "metadata": {
        "id": "W59xuPh0075L"
      },
      "source": [
        "X = df.loc[:,['City', 'State', 'Zip code', 'Status']]\n",
        "Y= df.loc[:, df.columns == 'Received Via' ]"
      ],
      "execution_count": null,
      "outputs": []
    },
    {
      "cell_type": "code",
      "metadata": {
        "id": "jX1z5yZw6qG6"
      },
      "source": [
        "categorical_var = ['Received Via', 'City', 'State', 'Zip code', 'Status']\n",
        "df[categorical_var] = df[categorical_var].astype('category')"
      ],
      "execution_count": null,
      "outputs": []
    },
    {
      "cell_type": "code",
      "metadata": {
        "colab": {
          "base_uri": "https://localhost:8080/",
          "height": 405
        },
        "outputId": "25a752a1-8d42-4c74-96ad-82539870faff",
        "id": "EkM51C7vVqAZ"
      },
      "source": [
        "fig, ax = plt.subplots(1,5, figsize = (15,5))\n",
        "for axis, cat_var in zip(ax, categorical_var):\n",
        "    sns.boxplot(y = cat_var,data = df, ax = axis, color = 'skyblue')\n",
        "    axis.set_xlabel(f\"{categorical_var}\", fontsize = 12)\n",
        "    axis.set_ylabel(None)\n",
        "fig.suptitle('Box Plot for Identifying Outliers', fontsize = 20, weight = 'bold')\n",
        "fig.text(0.5, -0.05, 'Numeric Features', ha = 'center', fontsize = 14, weight = 'bold')\n",
        "plt.tight_layout()"
      ],
      "execution_count": null,
      "outputs": [
        {
          "output_type": "display_data",
          "data": {
            "image/png": "[encoded data removed]",
            "text/plain": [
              "<Figure size 1080x360 with 5 Axes>"
            ]
          },
          "metadata": {
            "needs_background": "light"
          }
        }
      ]
    },
    {
      "cell_type": "markdown",
      "source": [
        "There are no outliers among the features. So keeping all the features."
      ],
      "metadata": {
        "id": "IZFy8AzoZ46U"
      }
    },
    {
      "cell_type": "code",
      "metadata": {
        "colab": {
          "base_uri": "https://localhost:8080/",
          "height": 995
        },
        "id": "eE9W44pjUKv6",
        "outputId": "5ceddb30-7943-4de4-e5f3-c5cf61abd9a2"
      },
      "source": [
        "def find_correlational_map(data):\n",
        "    plt.figure(figsize=(16,12))\n",
        "    sns.heatmap(data.corr(), annot=True, cmap='OrRd')\n",
        "    plt.title('Correlational Map', weight='bold')\n",
        "    print('---'*50)\n",
        "    print(data.corr())\n",
        "    plt.tight_layout()\n",
        "\n",
        "find_correlational_map(df)"
      ],
      "execution_count": null,
      "outputs": [
        {
          "output_type": "stream",
          "name": "stdout",
          "text": [
            "------------------------------------------------------------------------------------------------------------------------------------------------------\n",
            "              Received Via      City     State  Zip code    Status\n",
            "Received Via      1.000000 -0.007060 -0.016671  0.003320  0.032927\n",
            "City             -0.007060  1.000000 -0.012728  0.117201 -0.014528\n",
            "State            -0.016671 -0.012728  1.000000 -0.089508 -0.017691\n",
            "Zip code          0.003320  0.117201 -0.089508  1.000000  0.001667\n",
            "Status            0.032927 -0.014528 -0.017691  0.001667  1.000000\n"
          ]
        },
        {
          "output_type": "display_data",
          "data": {
            "image/png": "[encoded data removed]",
            "text/plain": [
              "<Figure size 1152x864 with 2 Axes>"
            ]
          },
          "metadata": {
            "needs_background": "light"
          }
        }
      ]
    },
    {
      "cell_type": "markdown",
      "source": [
        "Visualization"
      ],
      "metadata": {
        "id": "OpHJMHDMEF3s"
      }
    },
    {
      "cell_type": "code",
      "metadata": {
        "colab": {
          "base_uri": "https://localhost:8080/"
        },
        "outputId": "09362458-8d63-4813-f6d1-007a64635449",
        "id": "odYxxqaXxFUK"
      },
      "source": [
        "#Converting Date and Date_month_year column from object to datetime64 dtype\n",
        "dfv['Date_month_year'] = pd.to_datetime(dfv['Date_month_year'])\n",
        "dfv['Date'] = pd.to_datetime(dfv['Date'],format='%d-%m-%y')\n",
        "dfv.dtypes"
      ],
      "execution_count": null,
      "outputs": [
        {
          "output_type": "execute_result",
          "data": {
            "text/plain": [
              "Ticket #                               object\n",
              "Customer Complaint                     object\n",
              "Date                           datetime64[ns]\n",
              "Date_month_year                datetime64[ns]\n",
              "Time                                   object\n",
              "Received Via                           object\n",
              "City                                   object\n",
              "State                                  object\n",
              "Zip code                                int64\n",
              "Status                                 object\n",
              "Filing on Behalf of Someone            object\n",
              "Month                                  object\n",
              "Day                                     int64\n",
              "dtype: object"
            ]
          },
          "metadata": {},
          "execution_count": 139
        }
      ]
    },
    {
      "cell_type": "code",
      "metadata": {
        "colab": {
          "base_uri": "https://localhost:8080/",
          "height": 517
        },
        "id": "Xw3FOkF3mFUf",
        "outputId": "8e6de799-5c1f-4995-ea5c-60bf1d202978"
      },
      "source": [
        "sns.countplot(dfv['Status'])(dfv[\"Date_month_year\"]).value_counts().plot()"
      ],
      "execution_count": null,
      "outputs": [
        {
          "output_type": "stream",
          "name": "stderr",
          "text": [
            "/usr/local/lib/python3.7/dist-packages/seaborn/_decorators.py:43: FutureWarning:\n",
            "\n",
            "Pass the following variable as a keyword arg: x. From version 0.12, the only valid positional argument will be `data`, and passing other arguments without an explicit keyword will result in an error or misinterpretation.\n",
            "\n"
          ]
        },
        {
          "output_type": "error",
          "ename": "TypeError",
          "evalue": "ignored",
          "traceback": [
            "\u001b[0;31m---------------------------------------------------------------------------\u001b[0m",
            "\u001b[0;31mTypeError\u001b[0m                                 Traceback (most recent call last)",
            "\u001b[0;32m<ipython-input-135-47b7e4db8e34>\u001b[0m in \u001b[0;36m<module>\u001b[0;34m()\u001b[0m\n\u001b[0;32m----> 1\u001b[0;31m \u001b[0msns\u001b[0m\u001b[0;34m.\u001b[0m\u001b[0mcountplot\u001b[0m\u001b[0;34m(\u001b[0m\u001b[0mdfv\u001b[0m\u001b[0;34m[\u001b[0m\u001b[0;34m'Status'\u001b[0m\u001b[0;34m]\u001b[0m\u001b[0;34m)\u001b[0m\u001b[0;34m(\u001b[0m\u001b[0mdfv\u001b[0m\u001b[0;34m[\u001b[0m\u001b[0;34m\"Date_month_year\"\u001b[0m\u001b[0;34m]\u001b[0m\u001b[0;34m)\u001b[0m\u001b[0;34m.\u001b[0m\u001b[0mvalue_counts\u001b[0m\u001b[0;34m(\u001b[0m\u001b[0;34m)\u001b[0m\u001b[0;34m.\u001b[0m\u001b[0mplot\u001b[0m\u001b[0;34m(\u001b[0m\u001b[0;34m)\u001b[0m\u001b[0;34m\u001b[0m\u001b[0;34m\u001b[0m\u001b[0m\n\u001b[0m",
            "\u001b[0;31mTypeError\u001b[0m: 'AxesSubplot' object is not callable"
          ]
        },
        {
          "output_type": "display_data",
          "data": {
            "image/png": "[encoded data removed]",
            "text/plain": [
              "<Figure size 432x288 with 1 Axes>"
            ]
          },
          "metadata": {
            "needs_background": "light"
          }
        }
      ]
    },
    {
      "cell_type": "code",
      "metadata": {
        "colab": {
          "base_uri": "https://localhost:8080/",
          "height": 280
        },
        "id": "WuFSFK72sqqN",
        "outputId": "64abf27e-6dd7-4020-cdf9-90c4b36f3071"
      },
      "source": [
        "dfv[\"Date_month_year\"].value_counts().plot()"
      ],
      "execution_count": null,
      "outputs": [
        {
          "output_type": "execute_result",
          "data": {
            "text/plain": [
              "<matplotlib.axes._subplots.AxesSubplot at 0x7f02e0378590>"
            ]
          },
          "metadata": {},
          "execution_count": 46
        },
        {
          "output_type": "display_data",
          "data": {
            "image/png": "[encoded data removed]",
            "text/plain": [
              "<Figure size 432x288 with 1 Axes>"
            ]
          },
          "metadata": {
            "needs_background": "light"
          }
        }
      ]
    },
    {
      "cell_type": "code",
      "metadata": {
        "colab": {
          "base_uri": "https://localhost:8080/",
          "height": 624
        },
        "id": "DM-P5mOAqmV1",
        "outputId": "4da8c39d-3b1d-4bcc-c940-21063b93f8f5"
      },
      "source": [
        "## - Provide the trend chart for the number of complaints at monthly and daily granularity levels.\n",
        "\n",
        "dfv['Month']=pd.to_datetime(dfv['Date_month_year']).dt.month_name()\n",
        "dfv['Day']=pd.to_datetime(dfv['Date_month_year']).dt.day\n",
        "\n",
        "## Graph for date wise\n",
        "dfv.groupby(['Day'])['Customer Complaint'].count().plot(kind='bar',color=\"#FFB319\",edgecolor=\"darkgreen\",)\n",
        "plt.show()\n",
        "print(\"\\n\")\n",
        "\n",
        "## Graph for month wise\n",
        "dfv.groupby(['Month'])['Customer Complaint'].count().plot(kind='bar',color=\"#E63E6D\",edgecolor=\"orange\")\n",
        "plt.show()"
      ],
      "execution_count": null,
      "outputs": [
        {
          "output_type": "display_data",
          "data": {
            "image/png": "[encoded data removed]",
            "text/plain": [
              "<Figure size 432x288 with 1 Axes>"
            ]
          },
          "metadata": {
            "needs_background": "light"
          }
        },
        {
          "output_type": "stream",
          "name": "stdout",
          "text": [
            "\n",
            "\n"
          ]
        },
        {
          "output_type": "display_data",
          "data": {
            "image/png": "[encoded data removed]",
            "text/plain": [
              "<Figure size 432x288 with 1 Axes>"
            ]
          },
          "metadata": {
            "needs_background": "light"
          }
        }
      ]
    },
    {
      "cell_type": "code",
      "source": [
        "#variable for day of week - name and number\n",
        "dfv['day_of_week'] = dfv['Date'].dt.strftime('%A')\n",
        "dfv['nday_of_week'] = dfv['Date'].dt.strftime('%w')"
      ],
      "metadata": {
        "id": "OB0mqMRUEgqs"
      },
      "execution_count": null,
      "outputs": []
    },
    {
      "cell_type": "code",
      "metadata": {
        "colab": {
          "base_uri": "https://localhost:8080/",
          "height": 580
        },
        "id": "R02BLSJcIV3C",
        "outputId": "1ecdbce4-78dd-4ac7-e2c9-4879e62bc104"
      },
      "source": [
        "#sort by weekday\n",
        "dfv = dfv.sort_values(by = 'nday_of_week')\n",
        "#Bar plot for number of complaints weekday\n",
        "fig , ax = plt.subplots(figsize=(15,7))\n",
        "plot = sns.countplot(dfv['day_of_week'])\n",
        "ticks = plt.setp(plot.get_xticklabels(), rotation=90)"
      ],
      "execution_count": null,
      "outputs": [
        {
          "output_type": "stream",
          "name": "stderr",
          "text": [
            "/usr/local/lib/python3.7/dist-packages/seaborn/_decorators.py:43: FutureWarning:\n",
            "\n",
            "Pass the following variable as a keyword arg: x. From version 0.12, the only valid positional argument will be `data`, and passing other arguments without an explicit keyword will result in an error or misinterpretation.\n",
            "\n"
          ]
        },
        {
          "output_type": "display_data",
          "data": {
            "image/png": "[encoded data removed]",
            "text/plain": [
              "<Figure size 1080x504 with 1 Axes>"
            ]
          },
          "metadata": {
            "needs_background": "light"
          }
        }
      ]
    },
    {
      "cell_type": "code",
      "metadata": {
        "colab": {
          "base_uri": "https://localhost:8080/",
          "height": 576
        },
        "id": "wyt6tCOpJi_i",
        "outputId": "e3e7be18-81c9-4255-f9df-302f987d434c"
      },
      "source": [
        "#variable for just date in DD-MM-YY format without timestamp\n",
        "dfv['Date_var'] = dfv['Date'].dt.strftime('%d-%b-%y')\n",
        "#Sort by date\n",
        "dfv = dfv.sort_values(by='Date')\n",
        "#Bar plot for number of complaints by date\n",
        "fig , ax = plt.subplots(figsize=(15,7))\n",
        "plot = sns.countplot(dfv['Date_var'])\n",
        "ticks = plt.setp(plot.get_xticklabels(), rotation=90)"
      ],
      "execution_count": null,
      "outputs": [
        {
          "output_type": "stream",
          "name": "stderr",
          "text": [
            "/usr/local/lib/python3.7/dist-packages/seaborn/_decorators.py:43: FutureWarning:\n",
            "\n",
            "Pass the following variable as a keyword arg: x. From version 0.12, the only valid positional argument will be `data`, and passing other arguments without an explicit keyword will result in an error or misinterpretation.\n",
            "\n"
          ]
        },
        {
          "output_type": "display_data",
          "data": {
            "image/png": "[encoded data removed]",
            "text/plain": [
              "<Figure size 1080x504 with 1 Axes>"
            ]
          },
          "metadata": {
            "needs_background": "light"
          }
        }
      ]
    },
    {
      "cell_type": "code",
      "metadata": {
        "colab": {
          "base_uri": "https://localhost:8080/",
          "height": 1000
        },
        "id": "SotBJ0PdKo3J",
        "outputId": "bb310d6e-eb4d-46b5-ad30-5ab9f4dfdc5e"
      },
      "source": [
        "#State with maximum complaints\n",
        "complaints_count_state = dfv.groupby(['State']).size().sort_values(ascending=False).to_frame().reset_index().rename({0: \"Count\"}, axis=1)\n",
        "complaints_count_state.sort_values(by=['State'])"
      ],
      "execution_count": null,
      "outputs": [
        {
          "output_type": "execute_result",
          "data": {
            "text/html": [
              "<div>\n",
              "<style scoped>\n",
              "    .dataframe tbody tr th:only-of-type {\n",
              "        vertical-align: middle;\n",
              "    }\n",
              "\n",
              "    .dataframe tbody tr th {\n",
              "        vertical-align: top;\n",
              "    }\n",
              "\n",
              "    .dataframe thead th {\n",
              "        text-align: right;\n",
              "    }\n",
              "</style>\n",
              "<table border=\"1\" class=\"dataframe\">\n",
              "  <thead>\n",
              "    <tr style=\"text-align: right;\">\n",
              "      <th></th>\n",
              "      <th>State</th>\n",
              "      <th>Count</th>\n",
              "    </tr>\n",
              "  </thead>\n",
              "  <tbody>\n",
              "    <tr>\n",
              "      <th>18</th>\n",
              "      <td>Alabama</td>\n",
              "      <td>26</td>\n",
              "    </tr>\n",
              "    <tr>\n",
              "      <th>20</th>\n",
              "      <td>Arizona</td>\n",
              "      <td>20</td>\n",
              "    </tr>\n",
              "    <tr>\n",
              "      <th>31</th>\n",
              "      <td>Arkansas</td>\n",
              "      <td>6</td>\n",
              "    </tr>\n",
              "    <tr>\n",
              "      <th>2</th>\n",
              "      <td>California</td>\n",
              "      <td>220</td>\n",
              "    </tr>\n",
              "    <tr>\n",
              "      <th>8</th>\n",
              "      <td>Colorado</td>\n",
              "      <td>80</td>\n",
              "    </tr>\n",
              "    <tr>\n",
              "      <th>26</th>\n",
              "      <td>Connecticut</td>\n",
              "      <td>12</td>\n",
              "    </tr>\n",
              "    <tr>\n",
              "      <th>27</th>\n",
              "      <td>Delaware</td>\n",
              "      <td>12</td>\n",
              "    </tr>\n",
              "    <tr>\n",
              "      <th>22</th>\n",
              "      <td>District Of Columbia</td>\n",
              "      <td>16</td>\n",
              "    </tr>\n",
              "    <tr>\n",
              "      <th>38</th>\n",
              "      <td>District of Columbia</td>\n",
              "      <td>1</td>\n",
              "    </tr>\n",
              "    <tr>\n",
              "      <th>1</th>\n",
              "      <td>Florida</td>\n",
              "      <td>240</td>\n",
              "    </tr>\n",
              "    <tr>\n",
              "      <th>0</th>\n",
              "      <td>Georgia</td>\n",
              "      <td>288</td>\n",
              "    </tr>\n",
              "    <tr>\n",
              "      <th>3</th>\n",
              "      <td>Illinois</td>\n",
              "      <td>164</td>\n",
              "    </tr>\n",
              "    <tr>\n",
              "      <th>14</th>\n",
              "      <td>Indiana</td>\n",
              "      <td>59</td>\n",
              "    </tr>\n",
              "    <tr>\n",
              "      <th>41</th>\n",
              "      <td>Iowa</td>\n",
              "      <td>1</td>\n",
              "    </tr>\n",
              "    <tr>\n",
              "      <th>37</th>\n",
              "      <td>Kansas</td>\n",
              "      <td>2</td>\n",
              "    </tr>\n",
              "    <tr>\n",
              "      <th>29</th>\n",
              "      <td>Kentucky</td>\n",
              "      <td>7</td>\n",
              "    </tr>\n",
              "    <tr>\n",
              "      <th>24</th>\n",
              "      <td>Louisiana</td>\n",
              "      <td>13</td>\n",
              "    </tr>\n",
              "    <tr>\n",
              "      <th>32</th>\n",
              "      <td>Maine</td>\n",
              "      <td>5</td>\n",
              "    </tr>\n",
              "    <tr>\n",
              "      <th>9</th>\n",
              "      <td>Maryland</td>\n",
              "      <td>78</td>\n",
              "    </tr>\n",
              "    <tr>\n",
              "      <th>12</th>\n",
              "      <td>Massachusetts</td>\n",
              "      <td>61</td>\n",
              "    </tr>\n",
              "    <tr>\n",
              "      <th>6</th>\n",
              "      <td>Michigan</td>\n",
              "      <td>115</td>\n",
              "    </tr>\n",
              "    <tr>\n",
              "      <th>17</th>\n",
              "      <td>Minnesota</td>\n",
              "      <td>33</td>\n",
              "    </tr>\n",
              "    <tr>\n",
              "      <th>16</th>\n",
              "      <td>Mississippi</td>\n",
              "      <td>39</td>\n",
              "    </tr>\n",
              "    <tr>\n",
              "      <th>33</th>\n",
              "      <td>Missouri</td>\n",
              "      <td>4</td>\n",
              "    </tr>\n",
              "    <tr>\n",
              "      <th>40</th>\n",
              "      <td>Montana</td>\n",
              "      <td>1</td>\n",
              "    </tr>\n",
              "    <tr>\n",
              "      <th>42</th>\n",
              "      <td>Nevada</td>\n",
              "      <td>1</td>\n",
              "    </tr>\n",
              "    <tr>\n",
              "      <th>25</th>\n",
              "      <td>New Hampshire</td>\n",
              "      <td>12</td>\n",
              "    </tr>\n",
              "    <tr>\n",
              "      <th>10</th>\n",
              "      <td>New Jersey</td>\n",
              "      <td>75</td>\n",
              "    </tr>\n",
              "    <tr>\n",
              "      <th>23</th>\n",
              "      <td>New Mexico</td>\n",
              "      <td>15</td>\n",
              "    </tr>\n",
              "    <tr>\n",
              "      <th>30</th>\n",
              "      <td>New York</td>\n",
              "      <td>6</td>\n",
              "    </tr>\n",
              "    <tr>\n",
              "      <th>34</th>\n",
              "      <td>North Carolina</td>\n",
              "      <td>3</td>\n",
              "    </tr>\n",
              "    <tr>\n",
              "      <th>36</th>\n",
              "      <td>Ohio</td>\n",
              "      <td>3</td>\n",
              "    </tr>\n",
              "    <tr>\n",
              "      <th>15</th>\n",
              "      <td>Oregon</td>\n",
              "      <td>49</td>\n",
              "    </tr>\n",
              "    <tr>\n",
              "      <th>5</th>\n",
              "      <td>Pennsylvania</td>\n",
              "      <td>130</td>\n",
              "    </tr>\n",
              "    <tr>\n",
              "      <th>39</th>\n",
              "      <td>Rhode Island</td>\n",
              "      <td>1</td>\n",
              "    </tr>\n",
              "    <tr>\n",
              "      <th>21</th>\n",
              "      <td>South Carolina</td>\n",
              "      <td>18</td>\n",
              "    </tr>\n",
              "    <tr>\n",
              "      <th>4</th>\n",
              "      <td>Tennessee</td>\n",
              "      <td>143</td>\n",
              "    </tr>\n",
              "    <tr>\n",
              "      <th>11</th>\n",
              "      <td>Texas</td>\n",
              "      <td>71</td>\n",
              "    </tr>\n",
              "    <tr>\n",
              "      <th>19</th>\n",
              "      <td>Utah</td>\n",
              "      <td>22</td>\n",
              "    </tr>\n",
              "    <tr>\n",
              "      <th>35</th>\n",
              "      <td>Vermont</td>\n",
              "      <td>3</td>\n",
              "    </tr>\n",
              "    <tr>\n",
              "      <th>13</th>\n",
              "      <td>Virginia</td>\n",
              "      <td>60</td>\n",
              "    </tr>\n",
              "    <tr>\n",
              "      <th>7</th>\n",
              "      <td>Washington</td>\n",
              "      <td>98</td>\n",
              "    </tr>\n",
              "    <tr>\n",
              "      <th>28</th>\n",
              "      <td>West Virginia</td>\n",
              "      <td>11</td>\n",
              "    </tr>\n",
              "  </tbody>\n",
              "</table>\n",
              "</div>"
            ],
            "text/plain": [
              "                   State  Count\n",
              "18               Alabama     26\n",
              "20               Arizona     20\n",
              "31              Arkansas      6\n",
              "2             California    220\n",
              "8               Colorado     80\n",
              "26           Connecticut     12\n",
              "27              Delaware     12\n",
              "22  District Of Columbia     16\n",
              "38  District of Columbia      1\n",
              "1                Florida    240\n",
              "0                Georgia    288\n",
              "3               Illinois    164\n",
              "14               Indiana     59\n",
              "41                  Iowa      1\n",
              "37                Kansas      2\n",
              "29              Kentucky      7\n",
              "24             Louisiana     13\n",
              "32                 Maine      5\n",
              "9               Maryland     78\n",
              "12         Massachusetts     61\n",
              "6               Michigan    115\n",
              "17             Minnesota     33\n",
              "16           Mississippi     39\n",
              "33              Missouri      4\n",
              "40               Montana      1\n",
              "42                Nevada      1\n",
              "25         New Hampshire     12\n",
              "10            New Jersey     75\n",
              "23            New Mexico     15\n",
              "30              New York      6\n",
              "34        North Carolina      3\n",
              "36                  Ohio      3\n",
              "15                Oregon     49\n",
              "5           Pennsylvania    130\n",
              "39          Rhode Island      1\n",
              "21        South Carolina     18\n",
              "4              Tennessee    143\n",
              "11                 Texas     71\n",
              "19                  Utah     22\n",
              "35               Vermont      3\n",
              "13              Virginia     60\n",
              "7             Washington     98\n",
              "28         West Virginia     11"
            ]
          },
          "metadata": {},
          "execution_count": 143
        }
      ]
    },
    {
      "cell_type": "code",
      "metadata": {
        "colab": {
          "base_uri": "https://localhost:8080/",
          "height": 534
        },
        "id": "lR5PjABrKh4E",
        "outputId": "b4649369-2e38-492e-a6e1-06d79af020c8"
      },
      "source": [
        "#Bar plot for number of complaints by state\n",
        "fig , ax = plt.subplots(figsize=(15,7))\n",
        "plot = sns.barplot(x=complaints_count_state['State'],y=complaints_count_state['Count'],order=complaints_count_state.sort_values('State').State)\n",
        "ticks = plt.setp(plot.get_xticklabels(), rotation=90)"
      ],
      "execution_count": null,
      "outputs": [
        {
          "output_type": "display_data",
          "data": {
            "image/png": "[encoded data removed]",
            "text/plain": [
              "<Figure size 1080x504 with 1 Axes>"
            ]
          },
          "metadata": {
            "needs_background": "light"
          }
        }
      ]
    },
    {
      "cell_type": "code",
      "metadata": {
        "colab": {
          "base_uri": "https://localhost:8080/",
          "height": 517
        },
        "id": "Yv1y5YUM6rou",
        "outputId": "affa7216-1f7a-48a9-d003-234a6c1c7f37"
      },
      "source": [
        "#Create new column and catagorize status\n",
        "\n",
        "dfv['New_Status'] = ['Closed' if Status == 'Closed' or Status == 'Solved' else 'Open' for Status in dfv['Status']]\n",
        "# Create a df for state wise status\n",
        "\n",
        "State_wise_status = dfv.groupby(['State','New_Status']).size().unstack(level=-1).fillna(0).astype(int)\n",
        "# State wise complaint status using Stacked bar chart with pandas\n",
        "\n",
        "sws = State_wise_status.plot(kind='bar', figsize = (30,10), color=['#4B3869','#C32BAD'],title  = 'State wise status of complaints', xlabel = 'States', ylabel = 'Number of complaints', stacked = True)\n",
        "sws.tick_params(axis='x', labelrotation=90)\n",
        "for p in sws.patches:\n",
        "    width, height = p.get_width(), p.get_height()\n",
        "    x, y = p.get_xy()\n",
        "    sws.text(x+width/2, y+height/2, '{:.0f}'.format(height), color=\"white\", horizontalalignment='center', verticalalignment='center', fontweight='bold')"
      ],
      "execution_count": null,
      "outputs": [
        {
          "output_type": "display_data",
          "data": {
            "image/png": "[encoded data removed]",
            "text/plain": [
              "<Figure size 2160x720 with 1 Axes>"
            ]
          },
          "metadata": {
            "needs_background": "light"
          }
        }
      ]
    },
    {
      "cell_type": "code",
      "metadata": {
        "colab": {
          "base_uri": "https://localhost:8080/",
          "height": 536
        },
        "id": "9nxq0F1w7pfg",
        "outputId": "662a645f-e035-49c6-99d6-5941fa885d84"
      },
      "source": [
        "# Complaints received through Internet and Customer Care call with resolved percentage\n",
        "\n",
        "Complaints_resolved = dfv.groupby(['Received Via','New_Status']).size().unstack(level=-1)\n",
        "Complaints_resolved['Resolved %'] = round((Complaints_resolved['Closed']/Complaints_resolved['Closed'].sum())*100,2)\n",
        "\n",
        "# Pie Chart for the complaints received through Internet and Customer Care call with resolved percentage\n",
        "\n",
        "colors = ['#FF5C58','#FFEF78']\n",
        "labels = list(Complaints_resolved.index)\n",
        "fig, ax1 = plt.subplots(figsize=(20,9))\n",
        "fig.figsize=(20,10)\n",
        "ax1.pie(Complaints_resolved['Closed'], colors = colors, labels=labels, autopct='%1.1f%%',startangle=70)\n",
        "centre_circle = plt.Circle((0,0),0.50,fc='white')\n",
        "fig = plt.gcf()\n",
        "fig.gca().add_artist(centre_circle)\n",
        "plt.legend(labels, bbox_to_anchor=(1.2,1),loc=\"upper right\")\n",
        "plt.title('Percentage of complaints resolved')\n",
        "plt.show()"
      ],
      "execution_count": null,
      "outputs": [
        {
          "output_type": "display_data",
          "data": {
            "image/png": "[encoded data removed]",
            "text/plain": [
              "<Figure size 1440x648 with 1 Axes>"
            ]
          },
          "metadata": {}
        }
      ]
    },
    {
      "cell_type": "code",
      "metadata": {
        "colab": {
          "base_uri": "https://localhost:8080/",
          "height": 296
        },
        "id": "3ShtKrNOoinV",
        "outputId": "c42368f3-cd17-4648-df56-6fd35bed7fa3"
      },
      "source": [
        "sns.lineplot(x=dfv['City'].head(10),y=dfv['Ticket #'].head(15),color='red')"
      ],
      "execution_count": null,
      "outputs": [
        {
          "output_type": "execute_result",
          "data": {
            "text/plain": [
              "<matplotlib.axes._subplots.AxesSubplot at 0x7f022b8f3550>"
            ]
          },
          "metadata": {},
          "execution_count": 147
        },
        {
          "output_type": "display_data",
          "data": {
            "image/png": "[encoded data removed]",
            "text/plain": [
              "<Figure size 432x288 with 1 Axes>"
            ]
          },
          "metadata": {
            "needs_background": "light"
          }
        }
      ]
    },
    {
      "cell_type": "code",
      "metadata": {
        "colab": {
          "base_uri": "https://localhost:8080/",
          "height": 296
        },
        "id": "lmzf5ORdupCs",
        "outputId": "cdf59988-e17e-4b20-d047-5b6291645403"
      },
      "source": [
        "sns.stripplot(x=dfv['Status'],y=dfv['Zip code'])"
      ],
      "execution_count": null,
      "outputs": [
        {
          "output_type": "execute_result",
          "data": {
            "text/plain": [
              "<matplotlib.axes._subplots.AxesSubplot at 0x7f022ab75790>"
            ]
          },
          "metadata": {},
          "execution_count": 148
        },
        {
          "output_type": "display_data",
          "data": {
            "image/png": "[encoded data removed]",
            "text/plain": [
              "<Figure size 432x288 with 1 Axes>"
            ]
          },
          "metadata": {
            "needs_background": "light"
          }
        }
      ]
    },
    {
      "cell_type": "code",
      "metadata": {
        "id": "l5Y3DMa-311N",
        "colab": {
          "base_uri": "https://localhost:8080/",
          "height": 296
        },
        "outputId": "57deb484-35ae-4578-8bcd-944daef4067e"
      },
      "source": [
        "sns.swarmplot(x=dfv['Filing on Behalf of Someone'],y=dfv['Ticket #'].head(10))"
      ],
      "execution_count": null,
      "outputs": [
        {
          "output_type": "execute_result",
          "data": {
            "text/plain": [
              "<matplotlib.axes._subplots.AxesSubplot at 0x7f1f5514cbd0>"
            ]
          },
          "metadata": {},
          "execution_count": 5
        },
        {
          "output_type": "display_data",
          "data": {
            "image/png": "[encoded data removed]",
            "text/plain": [
              "<Figure size 432x288 with 1 Axes>"
            ]
          },
          "metadata": {
            "needs_background": "light"
          }
        }
      ]
    },
    {
      "cell_type": "code",
      "metadata": {
        "colab": {
          "base_uri": "https://localhost:8080/",
          "height": 391
        },
        "id": "MamMuSFh7xin",
        "outputId": "c99b31e2-22bc-4734-cd1d-3cf94999d609"
      },
      "source": [
        "sns.pairplot(dfv)"
      ],
      "execution_count": null,
      "outputs": [
        {
          "output_type": "execute_result",
          "data": {
            "text/plain": [
              "<seaborn.axisgrid.PairGrid at 0x7f022b437ad0>"
            ]
          },
          "metadata": {},
          "execution_count": 150
        },
        {
          "output_type": "display_data",
          "data": {
            "image/png": "[encoded data removed]",
            "text/plain": [
              "<Figure size 360x360 with 6 Axes>"
            ]
          },
          "metadata": {
            "needs_background": "light"
          }
        }
      ]
    },
    {
      "cell_type": "markdown",
      "source": [
        "MODEL BUILDING"
      ],
      "metadata": {
        "id": "M_Q-AAHfHAX0"
      }
    },
    {
      "cell_type": "code",
      "source": [
        "from sklearn.metrics import accuracy_score,confusion_matrix\n",
        "from sklearn.model_selection import train_test_split\n",
        "from sklearn.tree import DecisionTreeClassifier\n",
        "from sklearn.preprocessing import LabelEncoder\n",
        "from sklearn import naive_bayes\n",
        "from sklearn import neighbors"
      ],
      "metadata": {
        "id": "TuBZb-PaHCO1"
      },
      "execution_count": null,
      "outputs": []
    },
    {
      "cell_type": "markdown",
      "source": [
        "Selccting the features into x and target variable into Y."
      ],
      "metadata": {
        "id": "BtPg9WMoTylV"
      }
    },
    {
      "cell_type": "code",
      "metadata": {
        "id": "FudqBkP12XDB"
      },
      "source": [
        "X = df.loc[:,['City', 'State', 'Zip code', 'Status']]\n",
        "Y= df.loc[:, df.columns == 'Received Via' ]"
      ],
      "execution_count": null,
      "outputs": []
    },
    {
      "cell_type": "markdown",
      "metadata": {
        "id": "8bV8epd015XH"
      },
      "source": [
        "Logistic Regression\n"
      ]
    },
    {
      "cell_type": "code",
      "metadata": {
        "id": "aluDQzdXzeFb"
      },
      "source": [
        "from sklearn.linear_model import LogisticRegression\n",
        "from sklearn.model_selection import train_test_split\n",
        "from sklearn.metrics import classification_report\n",
        "from sklearn.metrics import confusion_matrix,accuracy_score\n",
        "X_train,X_test,y_train,y_test = train_test_split(X,Y,test_size=0.3,random_state=70)"
      ],
      "execution_count": null,
      "outputs": []
    },
    {
      "cell_type": "code",
      "source": [
        "model = LogisticRegression(random_state=7)\n",
        "model.fit(X_train,y_train)#X_train is all the instance with attributes, y_train is the label of each instance"
      ],
      "metadata": {
        "colab": {
          "base_uri": "https://localhost:8080/"
        },
        "id": "PZ617GTlIZnj",
        "outputId": "1eb85086-fd72-4fa5-e39e-4a935654c819"
      },
      "execution_count": null,
      "outputs": [
        {
          "output_type": "stream",
          "name": "stderr",
          "text": [
            "/usr/local/lib/python3.7/dist-packages/sklearn/utils/validation.py:985: DataConversionWarning:\n",
            "\n",
            "A column-vector y was passed when a 1d array was expected. Please change the shape of y to (n_samples, ), for example using ravel().\n",
            "\n"
          ]
        },
        {
          "output_type": "execute_result",
          "data": {
            "text/plain": [
              "LogisticRegression(random_state=7)"
            ]
          },
          "metadata": {},
          "execution_count": 38
        }
      ]
    },
    {
      "cell_type": "code",
      "source": [
        "y_lgpred = model.predict(X_test)"
      ],
      "metadata": {
        "id": "QW-UxXNKIgeK"
      },
      "execution_count": null,
      "outputs": []
    },
    {
      "cell_type": "code",
      "metadata": {
        "colab": {
          "base_uri": "https://localhost:8080/"
        },
        "id": "EtUsQ6EEzt2s",
        "outputId": "dbf36f3e-21df-4522-d6f6-303a774639a3"
      },
      "source": [
        "confusion_matrix(y_test,y_lgpred)"
      ],
      "execution_count": null,
      "outputs": [
        {
          "output_type": "execute_result",
          "data": {
            "text/plain": [
              "array([[174, 160],\n",
              "       [180, 154]])"
            ]
          },
          "metadata": {},
          "execution_count": 40
        }
      ]
    },
    {
      "cell_type": "code",
      "source": [
        "acclrg = accuracy_score(y_test,y_lgpred)"
      ],
      "metadata": {
        "id": "3pe4KyO-InMc"
      },
      "execution_count": null,
      "outputs": []
    },
    {
      "cell_type": "code",
      "metadata": {
        "id": "9YGRXtgKz5da",
        "colab": {
          "base_uri": "https://localhost:8080/"
        },
        "outputId": "41177867-1601-473e-ccd4-01427edf3749"
      },
      "source": [
        "acclrg"
      ],
      "execution_count": null,
      "outputs": [
        {
          "output_type": "execute_result",
          "data": {
            "text/plain": [
              "0.49101796407185627"
            ]
          },
          "metadata": {},
          "execution_count": 42
        }
      ]
    },
    {
      "cell_type": "code",
      "metadata": {
        "colab": {
          "base_uri": "https://localhost:8080/"
        },
        "id": "aPnQpEi6IRlv",
        "outputId": "ad2b172a-b556-49ff-a270-ceaf23d72183"
      },
      "source": [
        "tn,fn, fp, tp = confusion_matrix(y_test,y_lgpred).ravel()\n",
        "print('true_negative : ', tn)\n",
        "print('false_negative : ', fn)\n",
        "print('false_poesitive : ', fp)\n",
        "print('True_positive : ', tp)"
      ],
      "execution_count": null,
      "outputs": [
        {
          "output_type": "stream",
          "name": "stdout",
          "text": [
            "true_negative :  174\n",
            "false_negative :  160\n",
            "false_poesitive :  180\n",
            "True_positive :  154\n"
          ]
        }
      ]
    },
    {
      "cell_type": "code",
      "source": [
        "from sklearn.metrics import classification_report\n",
        "print(classification_report(y_test,y_lgpred))"
      ],
      "metadata": {
        "colab": {
          "base_uri": "https://localhost:8080/"
        },
        "id": "PyUQI1mFlJyT",
        "outputId": "cba81068-efd1-43c2-e888-35558876ded2"
      },
      "execution_count": null,
      "outputs": [
        {
          "output_type": "stream",
          "name": "stdout",
          "text": [
            "              precision    recall  f1-score   support\n",
            "\n",
            "           0       0.49      0.52      0.51       334\n",
            "           1       0.49      0.46      0.48       334\n",
            "\n",
            "    accuracy                           0.49       668\n",
            "   macro avg       0.49      0.49      0.49       668\n",
            "weighted avg       0.49      0.49      0.49       668\n",
            "\n"
          ]
        }
      ]
    },
    {
      "cell_type": "markdown",
      "source": [
        "KNN"
      ],
      "metadata": {
        "id": "HnqvPzulJAMD"
      }
    },
    {
      "cell_type": "code",
      "metadata": {
        "id": "HipqJl9_Hh8A"
      },
      "source": [
        "from sklearn.neighbors import KNeighborsClassifier"
      ],
      "execution_count": null,
      "outputs": []
    },
    {
      "cell_type": "code",
      "metadata": {
        "id": "u25i83--Howt",
        "colab": {
          "base_uri": "https://localhost:8080/"
        },
        "outputId": "dd406303-1289-4385-9e38-d01235876161"
      },
      "source": [
        "knn = KNeighborsClassifier(n_neighbors=7)\n",
        "knn.fit(X_train,y_train)"
      ],
      "execution_count": null,
      "outputs": [
        {
          "output_type": "stream",
          "name": "stderr",
          "text": [
            "/usr/local/lib/python3.7/dist-packages/sklearn/neighbors/_classification.py:198: DataConversionWarning:\n",
            "\n",
            "A column-vector y was passed when a 1d array was expected. Please change the shape of y to (n_samples,), for example using ravel().\n",
            "\n"
          ]
        },
        {
          "output_type": "execute_result",
          "data": {
            "text/plain": [
              "KNeighborsClassifier(n_neighbors=7)"
            ]
          },
          "metadata": {},
          "execution_count": 46
        }
      ]
    },
    {
      "cell_type": "code",
      "source": [
        "knn.score(X_test,y_test)"
      ],
      "metadata": {
        "colab": {
          "base_uri": "https://localhost:8080/"
        },
        "id": "LgBQAg-yJPdf",
        "outputId": "0598b584-dcc5-4001-e012-c4ccfb39c6f2"
      },
      "execution_count": null,
      "outputs": [
        {
          "output_type": "execute_result",
          "data": {
            "text/plain": [
              "0.5194610778443114"
            ]
          },
          "metadata": {},
          "execution_count": 48
        }
      ]
    },
    {
      "cell_type": "code",
      "source": [
        "from sklearn.metrics import confusion_matrix,accuracy_score\n",
        "y_pred = knn.predict(X_test)\n",
        "confusion_matrix(y_test,y_pred)"
      ],
      "metadata": {
        "colab": {
          "base_uri": "https://localhost:8080/"
        },
        "id": "xgN5hH38JSYi",
        "outputId": "4d805649-6bc7-4fb7-fbf0-5926d4152f77"
      },
      "execution_count": null,
      "outputs": [
        {
          "output_type": "execute_result",
          "data": {
            "text/plain": [
              "array([[175, 159],\n",
              "       [162, 172]])"
            ]
          },
          "metadata": {},
          "execution_count": 49
        }
      ]
    },
    {
      "cell_type": "code",
      "metadata": {
        "colab": {
          "base_uri": "https://localhost:8080/"
        },
        "id": "RtDYqIzyIK2N",
        "outputId": "4ba8d513-b701-48fb-ca99-2050f47dcb45"
      },
      "source": [
        "tn,fn, fp, tp = confusion_matrix(y_test,y_pred).ravel()\n",
        "print('true_negative : ', tn)\n",
        "print('false_negative : ', fn)\n",
        "print('false_poesitive : ', fp)\n",
        "print('True_positive : ', tp)"
      ],
      "execution_count": null,
      "outputs": [
        {
          "output_type": "stream",
          "name": "stdout",
          "text": [
            "true_negative :  175\n",
            "false_negative :  159\n",
            "false_poesitive :  162\n",
            "True_positive :  172\n"
          ]
        }
      ]
    },
    {
      "cell_type": "code",
      "metadata": {
        "colab": {
          "base_uri": "https://localhost:8080/"
        },
        "id": "l8oK1Pxl8Pmm",
        "outputId": "0d654eea-9ce3-4564-9cd6-9786387b850d"
      },
      "source": [
        "from sklearn.metrics import classification_report\n",
        "print(classification_report(y_test,y_pred))"
      ],
      "execution_count": null,
      "outputs": [
        {
          "output_type": "stream",
          "name": "stdout",
          "text": [
            "              precision    recall  f1-score   support\n",
            "\n",
            "           0       0.52      0.52      0.52       334\n",
            "           1       0.52      0.51      0.52       334\n",
            "\n",
            "    accuracy                           0.52       668\n",
            "   macro avg       0.52      0.52      0.52       668\n",
            "weighted avg       0.52      0.52      0.52       668\n",
            "\n"
          ]
        }
      ]
    },
    {
      "cell_type": "markdown",
      "source": [
        "Random Forest"
      ],
      "metadata": {
        "id": "xeFBQUR8REhS"
      }
    },
    {
      "cell_type": "code",
      "metadata": {
        "id": "TJaaC5y4Jaz6",
        "colab": {
          "base_uri": "https://localhost:8080/"
        },
        "outputId": "115443d2-188c-48d8-e06b-7a4074d0fc6a"
      },
      "source": [
        "from sklearn.ensemble import RandomForestClassifier\n",
        "rf1 = RandomForestClassifier(n_estimators=40)\n",
        "rf1.fit(X_train,y_train)\n",
        "pred = rf1.predict(X_test)\n",
        "print(classification_report(y_test,pred))"
      ],
      "execution_count": null,
      "outputs": [
        {
          "output_type": "stream",
          "name": "stdout",
          "text": [
            "              precision    recall  f1-score   support\n",
            "\n",
            "           0       0.51      0.48      0.50       334\n",
            "           1       0.51      0.54      0.53       334\n",
            "\n",
            "    accuracy                           0.51       668\n",
            "   macro avg       0.51      0.51      0.51       668\n",
            "weighted avg       0.51      0.51      0.51       668\n",
            "\n"
          ]
        },
        {
          "output_type": "stream",
          "name": "stderr",
          "text": [
            "/usr/local/lib/python3.7/dist-packages/ipykernel_launcher.py:3: DataConversionWarning:\n",
            "\n",
            "A column-vector y was passed when a 1d array was expected. Please change the shape of y to (n_samples,), for example using ravel().\n",
            "\n"
          ]
        }
      ]
    },
    {
      "cell_type": "markdown",
      "source": [
        "SVC"
      ],
      "metadata": {
        "id": "fV9gR5UJRDrx"
      }
    },
    {
      "cell_type": "code",
      "metadata": {
        "id": "Xe0wptcuJv2h",
        "colab": {
          "base_uri": "https://localhost:8080/"
        },
        "outputId": "ffca8360-5de2-45fc-d529-42ca9a4a322e"
      },
      "source": [
        "from sklearn.svm import SVC\n",
        "from sklearn import svm\n",
        "clf = svm.SVC()\n",
        "clf.fit(X_train,y_train)\n",
        "pred_svm = clf.predict(X_test)"
      ],
      "execution_count": null,
      "outputs": [
        {
          "output_type": "stream",
          "name": "stderr",
          "text": [
            "/usr/local/lib/python3.7/dist-packages/sklearn/utils/validation.py:985: DataConversionWarning:\n",
            "\n",
            "A column-vector y was passed when a 1d array was expected. Please change the shape of y to (n_samples, ), for example using ravel().\n",
            "\n"
          ]
        }
      ]
    },
    {
      "cell_type": "code",
      "source": [
        "from sklearn.metrics import confusion_matrix\n",
        "confusion_matrix(y_test,pred_svm)"
      ],
      "metadata": {
        "colab": {
          "base_uri": "https://localhost:8080/"
        },
        "id": "6_1M584vN_QT",
        "outputId": "ea9f1977-8956-4dd4-93f7-50addd74454c"
      },
      "execution_count": null,
      "outputs": [
        {
          "output_type": "execute_result",
          "data": {
            "text/plain": [
              "array([[120, 214],\n",
              "       [133, 201]])"
            ]
          },
          "metadata": {},
          "execution_count": 54
        }
      ]
    },
    {
      "cell_type": "code",
      "metadata": {
        "id": "B2dsJQ2qKHLV",
        "colab": {
          "base_uri": "https://localhost:8080/"
        },
        "outputId": "531c3bad-1f6b-49ac-d871-e68522d8141c"
      },
      "source": [
        "print(accuracy_score(y_test, pred_svm))"
      ],
      "execution_count": null,
      "outputs": [
        {
          "output_type": "stream",
          "name": "stdout",
          "text": [
            "0.4805389221556886\n"
          ]
        }
      ]
    },
    {
      "cell_type": "code",
      "metadata": {
        "colab": {
          "base_uri": "https://localhost:8080/"
        },
        "id": "Vlhy_k8NKQWi",
        "outputId": "d9251912-0822-4988-e35d-dd2ff7898b95"
      },
      "source": [
        "tn,fn, fp, tp = confusion_matrix(y_test,pred_svm).ravel()\n",
        "print('true_negative : ', tn)\n",
        "print('false_negative : ', fn)\n",
        "print('false_poesitive : ', fp)\n",
        "print('True_positive : ', tp)"
      ],
      "execution_count": null,
      "outputs": [
        {
          "output_type": "stream",
          "name": "stdout",
          "text": [
            "true_negative :  120\n",
            "false_negative :  214\n",
            "false_poesitive :  133\n",
            "True_positive :  201\n"
          ]
        }
      ]
    },
    {
      "cell_type": "code",
      "metadata": {
        "id": "pf7uqfCwKVx_",
        "colab": {
          "base_uri": "https://localhost:8080/"
        },
        "outputId": "4a07e157-18d5-4fe4-f19b-c6d5ec5dfac0"
      },
      "source": [
        "print(classification_report(y_test,pred_svm))"
      ],
      "execution_count": null,
      "outputs": [
        {
          "output_type": "stream",
          "name": "stdout",
          "text": [
            "              precision    recall  f1-score   support\n",
            "\n",
            "           0       0.47      0.36      0.41       334\n",
            "           1       0.48      0.60      0.54       334\n",
            "\n",
            "    accuracy                           0.48       668\n",
            "   macro avg       0.48      0.48      0.47       668\n",
            "weighted avg       0.48      0.48      0.47       668\n",
            "\n"
          ]
        }
      ]
    },
    {
      "cell_type": "markdown",
      "source": [
        "Naive Bayes"
      ],
      "metadata": {
        "id": "e2lId0HNOdhY"
      }
    },
    {
      "cell_type": "code",
      "source": [
        "from sklearn.naive_bayes import GaussianNB\n",
        "nav_classifier = GaussianNB()\n",
        "nav_classifier.fit(X_train, y_train)\n",
        "pred_nav=nav_classifier.predict(X_test)"
      ],
      "metadata": {
        "colab": {
          "base_uri": "https://localhost:8080/"
        },
        "id": "CTZyXBnbOeCy",
        "outputId": "1ed3cf28-bc8f-488f-9349-55a8e0f08528"
      },
      "execution_count": null,
      "outputs": [
        {
          "output_type": "stream",
          "name": "stderr",
          "text": [
            "/usr/local/lib/python3.7/dist-packages/sklearn/utils/validation.py:985: DataConversionWarning:\n",
            "\n",
            "A column-vector y was passed when a 1d array was expected. Please change the shape of y to (n_samples, ), for example using ravel().\n",
            "\n"
          ]
        }
      ]
    },
    {
      "cell_type": "code",
      "metadata": {
        "id": "ozV1U4RVPBlm",
        "colab": {
          "base_uri": "https://localhost:8080/"
        },
        "outputId": "1146a174-f19d-44e3-dedb-b6ccebb2cf71"
      },
      "source": [
        "from sklearn.metrics import confusion_matrix\n",
        "confusion_matrix(y_test,pred_nav)"
      ],
      "execution_count": null,
      "outputs": [
        {
          "output_type": "execute_result",
          "data": {
            "text/plain": [
              "array([[173, 161],\n",
              "       [179, 155]])"
            ]
          },
          "metadata": {},
          "execution_count": 59
        }
      ]
    },
    {
      "cell_type": "code",
      "metadata": {
        "id": "JkosZRMZPJoG",
        "colab": {
          "base_uri": "https://localhost:8080/"
        },
        "outputId": "6f3f0cbd-a4b2-463e-f873-ffc25170faf8"
      },
      "source": [
        "print(accuracy_score(y_test, pred_nav))"
      ],
      "execution_count": null,
      "outputs": [
        {
          "output_type": "stream",
          "name": "stdout",
          "text": [
            "0.49101796407185627\n"
          ]
        }
      ]
    },
    {
      "cell_type": "code",
      "source": [
        "tn,fn, fp, tp = confusion_matrix(y_test,pred_nav).ravel()\n",
        "print('true_negative : ', tn)\n",
        "print('false_negative : ', fn)\n",
        "print('false_poesitive : ', fp)\n",
        "print('True_positive : ', tp)"
      ],
      "metadata": {
        "colab": {
          "base_uri": "https://localhost:8080/"
        },
        "id": "AB3tQ7paOpNi",
        "outputId": "200cd905-a583-4c70-ec51-21c310f1aa8d"
      },
      "execution_count": null,
      "outputs": [
        {
          "output_type": "stream",
          "name": "stdout",
          "text": [
            "true_negative :  173\n",
            "false_negative :  161\n",
            "false_poesitive :  179\n",
            "True_positive :  155\n"
          ]
        }
      ]
    },
    {
      "cell_type": "code",
      "metadata": {
        "id": "uBxnGoxyPV1f",
        "colab": {
          "base_uri": "https://localhost:8080/"
        },
        "outputId": "4fd51443-4b1b-4d19-8220-f1bbac12d207"
      },
      "source": [
        "print(classification_report(y_test,pred_nav))"
      ],
      "execution_count": null,
      "outputs": [
        {
          "output_type": "stream",
          "name": "stdout",
          "text": [
            "              precision    recall  f1-score   support\n",
            "\n",
            "           0       0.49      0.52      0.50       334\n",
            "           1       0.49      0.46      0.48       334\n",
            "\n",
            "    accuracy                           0.49       668\n",
            "   macro avg       0.49      0.49      0.49       668\n",
            "weighted avg       0.49      0.49      0.49       668\n",
            "\n"
          ]
        }
      ]
    },
    {
      "cell_type": "markdown",
      "source": [
        "Decision Tree Classifier"
      ],
      "metadata": {
        "id": "zLX_PkurRQUC"
      }
    },
    {
      "cell_type": "code",
      "metadata": {
        "id": "AIk73RvOPjdD"
      },
      "source": [
        "from sklearn.tree import DecisionTreeClassifier\n",
        "DT = DecisionTreeClassifier().fit(X_train, y_train)\n",
        "pred_DT = DT.predict(X_test)"
      ],
      "execution_count": null,
      "outputs": []
    },
    {
      "cell_type": "code",
      "source": [
        "from sklearn.metrics import confusion_matrix\n",
        "confusion_matrix(y_test,pred_DT)"
      ],
      "metadata": {
        "colab": {
          "base_uri": "https://localhost:8080/"
        },
        "id": "Mu0uQkl7RUkK",
        "outputId": "e4993aa4-cad6-452b-d707-04ed6bb9e38a"
      },
      "execution_count": null,
      "outputs": [
        {
          "output_type": "execute_result",
          "data": {
            "text/plain": [
              "array([[169, 165],\n",
              "       [154, 180]])"
            ]
          },
          "metadata": {},
          "execution_count": 64
        }
      ]
    },
    {
      "cell_type": "code",
      "source": [
        "print(accuracy_score(y_test, pred_DT))"
      ],
      "metadata": {
        "colab": {
          "base_uri": "https://localhost:8080/"
        },
        "id": "DedTRT1URYBB",
        "outputId": "70d0a1db-160b-4edc-e932-cafc469984a7"
      },
      "execution_count": null,
      "outputs": [
        {
          "output_type": "stream",
          "name": "stdout",
          "text": [
            "0.5224550898203593\n"
          ]
        }
      ]
    },
    {
      "cell_type": "code",
      "metadata": {
        "colab": {
          "base_uri": "https://localhost:8080/"
        },
        "id": "Y4ry9l1mP2xs",
        "outputId": "ec4892fd-e949-4ac2-dbbf-199f22969502"
      },
      "source": [
        "tn,fn, fp, tp = confusion_matrix(y_test,pred_DT).ravel()\n",
        "print('true_negative : ', tn)\n",
        "print('false_negative : ', fn)\n",
        "print('false_poesitive : ', fp)\n",
        "print('True_positive : ', tp)"
      ],
      "execution_count": null,
      "outputs": [
        {
          "output_type": "stream",
          "name": "stdout",
          "text": [
            "true_negative :  169\n",
            "false_negative :  165\n",
            "false_poesitive :  154\n",
            "True_positive :  180\n"
          ]
        }
      ]
    },
    {
      "cell_type": "code",
      "metadata": {
        "colab": {
          "base_uri": "https://localhost:8080/"
        },
        "id": "xV_yyyJLPfaS",
        "outputId": "a8b8e42c-3610-47c2-dce3-49ded4105ef7"
      },
      "source": [
        "print(classification_report(y_test,pred_DT))"
      ],
      "execution_count": null,
      "outputs": [
        {
          "output_type": "stream",
          "name": "stdout",
          "text": [
            "              precision    recall  f1-score   support\n",
            "\n",
            "           0       0.52      0.51      0.51       334\n",
            "           1       0.52      0.54      0.53       334\n",
            "\n",
            "    accuracy                           0.52       668\n",
            "   macro avg       0.52      0.52      0.52       668\n",
            "weighted avg       0.52      0.52      0.52       668\n",
            "\n"
          ]
        }
      ]
    },
    {
      "cell_type": "markdown",
      "source": [
        "SCORES COMPARISION"
      ],
      "metadata": {
        "id": "v9WrzfiLTQBp"
      }
    },
    {
      "cell_type": "code",
      "source": [
        "models = pd.DataFrame({\n",
        "    \"Model\": [\"KNN\",\"Logistic Regression\",\"Random forest\",\"Svm\",\"Naive Bayes\",\"Desion tree\"],\n",
        "    \"Score\": [ knn.score(X_test,y_test)*100,accuracy_score(y_test,pred)*100,accuracy_score(y_test,pred)*100,accuracy_score(y_test, pred_svm)*100,accuracy_score(y_test, pred_nav)*100,accuracy_score(y_test, pred_DT)*100]\n",
        "})"
      ],
      "metadata": {
        "id": "VyttovoGTQwo"
      },
      "execution_count": null,
      "outputs": []
    },
    {
      "cell_type": "code",
      "metadata": {
        "colab": {
          "base_uri": "https://localhost:8080/",
          "height": 238
        },
        "id": "mUw86g44Qmqm",
        "outputId": "e0253b7d-28ea-4057-b2c1-6f5445eb19dd"
      },
      "source": [
        "models.sort_values(by = \"Score\", ascending = False)"
      ],
      "execution_count": null,
      "outputs": [
        {
          "output_type": "execute_result",
          "data": {
            "text/html": [
              "<div>\n",
              "<style scoped>\n",
              "    .dataframe tbody tr th:only-of-type {\n",
              "        vertical-align: middle;\n",
              "    }\n",
              "\n",
              "    .dataframe tbody tr th {\n",
              "        vertical-align: top;\n",
              "    }\n",
              "\n",
              "    .dataframe thead th {\n",
              "        text-align: right;\n",
              "    }\n",
              "</style>\n",
              "<table border=\"1\" class=\"dataframe\">\n",
              "  <thead>\n",
              "    <tr style=\"text-align: right;\">\n",
              "      <th></th>\n",
              "      <th>Model</th>\n",
              "      <th>Score</th>\n",
              "    </tr>\n",
              "  </thead>\n",
              "  <tbody>\n",
              "    <tr>\n",
              "      <th>5</th>\n",
              "      <td>Desion tree</td>\n",
              "      <td>52.245509</td>\n",
              "    </tr>\n",
              "    <tr>\n",
              "      <th>0</th>\n",
              "      <td>KNN</td>\n",
              "      <td>51.946108</td>\n",
              "    </tr>\n",
              "    <tr>\n",
              "      <th>1</th>\n",
              "      <td>Logistic Regression</td>\n",
              "      <td>51.347305</td>\n",
              "    </tr>\n",
              "    <tr>\n",
              "      <th>2</th>\n",
              "      <td>Random forest</td>\n",
              "      <td>51.347305</td>\n",
              "    </tr>\n",
              "    <tr>\n",
              "      <th>4</th>\n",
              "      <td>Naive Bayes</td>\n",
              "      <td>49.101796</td>\n",
              "    </tr>\n",
              "    <tr>\n",
              "      <th>3</th>\n",
              "      <td>Svm</td>\n",
              "      <td>48.053892</td>\n",
              "    </tr>\n",
              "  </tbody>\n",
              "</table>\n",
              "</div>"
            ],
            "text/plain": [
              "                 Model      Score\n",
              "5          Desion tree  52.245509\n",
              "0                  KNN  51.946108\n",
              "1  Logistic Regression  51.347305\n",
              "2        Random forest  51.347305\n",
              "4          Naive Bayes  49.101796\n",
              "3                  Svm  48.053892"
            ]
          },
          "metadata": {},
          "execution_count": 69
        }
      ]
    },
    {
      "cell_type": "code",
      "source": [
        "output = pd.DataFrame({\"Model\":[\"KNN\",\"Logistic Regression\",\"Random forest\",\"Svm\",\"Naive Bayes\",\"Desion tree\"],\"Score\": [ knn.score(X_test,y_test)*100,accuracy_score(y_test,pred)*100,accuracy_score(y_test,pred)*100,accuracy_score(y_test, pred_svm)*100,accuracy_score(y_test, pred_nav)*100,accuracy_score(y_test, pred_DT)*100]})\n",
        "plt.figure(figsize=(12,6))\n",
        "plots = sns.barplot(x='Model',y='Score',data=output)\n",
        "for bar in plots.patches:\n",
        "    plots.annotate(format(bar.get_height(),'.2f'),\n",
        "                   (bar.get_x()+bar.get_width()/2,\n",
        "                   bar.get_height()),ha='center',va='center',\n",
        "                   size=15,xytext=(0,8),\n",
        "                   textcoords='offset points')\n",
        "plt.xlabel(\"Models\", size=14)\n",
        "plt.xticks(rotation=90);\n",
        "plt.ylabel(\"Accuracy\",size=14)\n",
        "plt.show()"
      ],
      "metadata": {
        "colab": {
          "base_uri": "https://localhost:8080/",
          "height": 478
        },
        "id": "vd-yovscTZ8I",
        "outputId": "dc62b376-e4a6-408b-d4f8-6a1d3d624f91"
      },
      "execution_count": null,
      "outputs": [
        {
          "output_type": "display_data",
          "data": {
            "image/png": "[encoded data removed]",
            "text/plain": [
              "<Figure size 864x432 with 1 Axes>"
            ]
          },
          "metadata": {
            "needs_background": "light"
          }
        }
      ]
    }
  ]
}